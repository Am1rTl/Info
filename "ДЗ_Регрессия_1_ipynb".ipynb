{
  "nbformat": 4,
  "nbformat_minor": 0,
  "metadata": {
    "colab": {
      "provenance": [],
      "include_colab_link": true
    },
    "kernelspec": {
      "name": "python3",
      "display_name": "Python 3"
    },
    "language_info": {
      "name": "python"
    }
  },
  "cells": [
    {
      "cell_type": "markdown",
      "metadata": {
        "id": "view-in-github",
        "colab_type": "text"
      },
      "source": [
        "<a href=\"https://colab.research.google.com/github/Am1rTl/Info/blob/main/%22%D0%94%D0%97_%D0%A0%D0%B5%D0%B3%D1%80%D0%B5%D1%81%D1%81%D0%B8%D1%8F_1_ipynb%22.ipynb\" target=\"_parent\"><img src=\"https://colab.research.google.com/assets/colab-badge.svg\" alt=\"Open In Colab\"/></a>"
      ]
    },
    {
      "cell_type": "markdown",
      "source": [
        "# 1) Введение"
      ],
      "metadata": {
        "id": "FbYKXUL0kItj"
      }
    },
    {
      "cell_type": "markdown",
      "source": [
        "## Характеристики набора данных"
      ],
      "metadata": {
        "id": "A3UCtsU8kg6W"
      }
    },
    {
      "cell_type": "markdown",
      "source": [
        "В наборе данных представлены следующие характерисьтики зданий, влияющие на энергоэффективность.\n",
        "\n",
        "Характеристика | Описание\n",
        "--- | :---\n",
        "X1 | Оьносительная компактность\n",
        "X2 | Площадь пола\n",
        "X3 | Площадь стен\n",
        "X4 | Площадь крыши\n",
        "X5 | Средняя высота\n",
        "X6 | Ориентация\n",
        "X7 | Площадь остекления\n",
        "X8 | Распределение площадей остекления\n",
        "Y1 | Эффективность отопления\n",
        "Y2 | Эффективность охладения"
      ],
      "metadata": {
        "id": "_JbiGU1QkPGj"
      }
    },
    {
      "cell_type": "markdown",
      "source": [
        "## 2) Задание"
      ],
      "metadata": {
        "id": "rWj2M_RImQ0X"
      }
    },
    {
      "cell_type": "markdown",
      "source": [
        "Построить модель регресси для предсказания нагрузки отопления и нагрузки охладдения."
      ],
      "metadata": {
        "id": "45pPRpc2mlmo"
      }
    },
    {
      "cell_type": "markdown",
      "source": [
        "# 3) Загрузка набора данных\n",
        "\n",
        "1. Загрузить набор данных ENB2012_data.xlsx в сесионное хранилище.\n",
        "1. Создать DataFrame Pandas. Имена столбцов взять из первой строки файла."
      ],
      "metadata": {
        "id": "5--A64DUoCXV"
      }
    },
    {
      "cell_type": "code",
      "source": [
        "# Загрузить набор данных из файла ENB2012_data.xlsx\n",
        "data = pd.read_excel(\"ENB2012_data.xlsx\")\n",
        "print(f\"Данные успешно загружены из файла! Размер: {data.shape}\")"
      ],
      "metadata": {
        "id": "pLgaVlkYpLb6",
        "colab": {
          "base_uri": "https://localhost:8080/"
        },
        "outputId": "8a094c77-822a-47a9-aa19-ddabde391a4a"
      },
      "execution_count": 17,
      "outputs": [
        {
          "output_type": "stream",
          "name": "stdout",
          "text": [
            "Данные успешно загружены из файла! Размер: (768, 10)\n"
          ]
        }
      ]
    },
    {
      "cell_type": "code",
      "execution_count": 18,
      "metadata": {
        "id": "NbD6B4chgqOa"
      },
      "outputs": [],
      "source": [
        "#Импортировать необходимые библиотеки\n",
        "import pandas as pd\n",
        "import numpy as np\n",
        "from sklearn.preprocessing import StandardScaler"
      ]
    },
    {
      "cell_type": "code",
      "source": [
        "#Вывести первые 5 строк DataFrame\n",
        "print(data.head())"
      ],
      "metadata": {
        "id": "z1pxboBXy3Om",
        "colab": {
          "base_uri": "https://localhost:8080/"
        },
        "outputId": "510a5fcc-32bf-4bcc-fd01-ca9e5b9cfd94"
      },
      "execution_count": 19,
      "outputs": [
        {
          "output_type": "stream",
          "name": "stdout",
          "text": [
            "     X1     X2     X3      X4   X5  X6   X7  X8     Y1     Y2\n",
            "0  0.98  514.5  294.0  110.25  7.0   2  0.0   0  15.55  21.33\n",
            "1  0.98  514.5  294.0  110.25  7.0   3  0.0   0  15.55  21.33\n",
            "2  0.98  514.5  294.0  110.25  7.0   4  0.0   0  15.55  21.33\n",
            "3  0.98  514.5  294.0  110.25  7.0   5  0.0   0  15.55  21.33\n",
            "4  0.90  563.5  318.5  122.50  7.0   2  0.0   0  20.84  28.28\n"
          ]
        }
      ]
    },
    {
      "cell_type": "markdown",
      "source": [
        "# 4) Изучение набора данных"
      ],
      "metadata": {
        "id": "_BKwhxvboazR"
      }
    },
    {
      "cell_type": "markdown",
      "source": [
        "## 4.1) Определение типов данных столбцов"
      ],
      "metadata": {
        "id": "NS_RkMOrxTqj"
      }
    },
    {
      "cell_type": "code",
      "source": [
        "#Вывести информацию о DataFrame, позволяющие определить типы столбцов.\n",
        "print(data.dtypes)"
      ],
      "metadata": {
        "id": "58y_iqnpu3ng",
        "colab": {
          "base_uri": "https://localhost:8080/"
        },
        "outputId": "9b53742e-f1af-418a-aa5e-f74d87cfbaa0"
      },
      "execution_count": 20,
      "outputs": [
        {
          "output_type": "stream",
          "name": "stdout",
          "text": [
            "X1    float64\n",
            "X2    float64\n",
            "X3    float64\n",
            "X4    float64\n",
            "X5    float64\n",
            "X6      int64\n",
            "X7    float64\n",
            "X8      int64\n",
            "Y1    float64\n",
            "Y2    float64\n",
            "dtype: object\n"
          ]
        }
      ]
    },
    {
      "cell_type": "markdown",
      "source": [
        "## 4.1) Проверка наличия отсутствующих значений"
      ],
      "metadata": {
        "id": "z9Yo4hagxc8Y"
      }
    },
    {
      "cell_type": "code",
      "source": [
        "#Вывести информацию о DataFrame, позволяющие определить наличие отсутствующих значений.\n",
        "missing_values = data.isnull().sum()\n",
        "print(missing_values)"
      ],
      "metadata": {
        "id": "Nl6e6-gWxhr7",
        "colab": {
          "base_uri": "https://localhost:8080/"
        },
        "outputId": "e9cec77c-7240-4d78-f841-09f5ff5692ec"
      },
      "execution_count": 21,
      "outputs": [
        {
          "output_type": "stream",
          "name": "stdout",
          "text": [
            "X1    0\n",
            "X2    0\n",
            "X3    0\n",
            "X4    0\n",
            "X5    0\n",
            "X6    0\n",
            "X7    0\n",
            "X8    0\n",
            "Y1    0\n",
            "Y2    0\n",
            "dtype: int64\n"
          ]
        }
      ]
    },
    {
      "cell_type": "markdown",
      "source": [
        "## 4.2) Заполнение отсутствующих значений или удаление строк с отсутсвующими значениями\n",
        "\n",
        "Пункт выполняется если в наборе данныъ есть отсутствующие значения"
      ],
      "metadata": {
        "id": "Bkx4q3-Nx_AE"
      }
    },
    {
      "cell_type": "code",
      "source": [
        "#Заполнить пропуске в наборе данных, при их наличии.\n",
        "data_filled = data.fillna(data.mean())\n",
        "\n",
        "print(data_filled.head())"
      ],
      "metadata": {
        "id": "tGs0LgNayU9M",
        "colab": {
          "base_uri": "https://localhost:8080/"
        },
        "outputId": "e004db8c-2a41-4299-ec54-2de4ddb92ccb"
      },
      "execution_count": 22,
      "outputs": [
        {
          "output_type": "stream",
          "name": "stdout",
          "text": [
            "     X1     X2     X3      X4   X5  X6   X7  X8     Y1     Y2\n",
            "0  0.98  514.5  294.0  110.25  7.0   2  0.0   0  15.55  21.33\n",
            "1  0.98  514.5  294.0  110.25  7.0   3  0.0   0  15.55  21.33\n",
            "2  0.98  514.5  294.0  110.25  7.0   4  0.0   0  15.55  21.33\n",
            "3  0.98  514.5  294.0  110.25  7.0   5  0.0   0  15.55  21.33\n",
            "4  0.90  563.5  318.5  122.50  7.0   2  0.0   0  20.84  28.28\n"
          ]
        }
      ]
    },
    {
      "cell_type": "markdown",
      "source": [
        "## 5) Изучение статистических показателей набора данных"
      ],
      "metadata": {
        "id": "6pT5XMgjzAMI"
      }
    },
    {
      "cell_type": "code",
      "source": [
        "#Рассчитать и вывести статистические характеристики набора данных.\n",
        "print(data.describe())"
      ],
      "metadata": {
        "id": "BcUXmvguzHnJ",
        "colab": {
          "base_uri": "https://localhost:8080/"
        },
        "outputId": "3b8adc5f-74f0-4dc7-d21c-a2b67a9bb25d"
      },
      "execution_count": 23,
      "outputs": [
        {
          "output_type": "stream",
          "name": "stdout",
          "text": [
            "               X1          X2          X3          X4         X5          X6  \\\n",
            "count  768.000000  768.000000  768.000000  768.000000  768.00000  768.000000   \n",
            "mean     0.764167  671.708333  318.500000  176.604167    5.25000    3.500000   \n",
            "std      0.105777   88.086116   43.626481   45.165950    1.75114    1.118763   \n",
            "min      0.620000  514.500000  245.000000  110.250000    3.50000    2.000000   \n",
            "25%      0.682500  606.375000  294.000000  140.875000    3.50000    2.750000   \n",
            "50%      0.750000  673.750000  318.500000  183.750000    5.25000    3.500000   \n",
            "75%      0.830000  741.125000  343.000000  220.500000    7.00000    4.250000   \n",
            "max      0.980000  808.500000  416.500000  220.500000    7.00000    5.000000   \n",
            "\n",
            "               X7         X8          Y1          Y2  \n",
            "count  768.000000  768.00000  768.000000  768.000000  \n",
            "mean     0.234375    2.81250   22.307195   24.587760  \n",
            "std      0.133221    1.55096   10.090204    9.513306  \n",
            "min      0.000000    0.00000    6.010000   10.900000  \n",
            "25%      0.100000    1.75000   12.992500   15.620000  \n",
            "50%      0.250000    3.00000   18.950000   22.080000  \n",
            "75%      0.400000    4.00000   31.667500   33.132500  \n",
            "max      0.400000    5.00000   43.100000   48.030000  \n"
          ]
        }
      ]
    },
    {
      "cell_type": "markdown",
      "source": [
        "#Выводы по разделам 4 и 5"
      ],
      "metadata": {
        "id": "vXn1K5g9D3Tl"
      }
    },
    {
      "cell_type": "markdown",
      "source": [
        "# 6) Исследовательский анализ данных"
      ],
      "metadata": {
        "id": "IrTTuXPzzrh8"
      }
    },
    {
      "cell_type": "markdown",
      "source": [
        "## 6.1) Анализ корреляционной матрицы"
      ],
      "metadata": {
        "id": "Rm6M17VUz146"
      }
    },
    {
      "cell_type": "code",
      "source": [
        "#Рассчитать и вывести корреляционную матрицу для исследуемого набора данных.\n",
        "correlation_matrix = data.corr()\n",
        "\n",
        "print(correlation_matrix)"
      ],
      "metadata": {
        "id": "fa-8cGN7yyns",
        "colab": {
          "base_uri": "https://localhost:8080/"
        },
        "outputId": "8682157f-9bf4-4bd2-fffb-484b976d8000"
      },
      "execution_count": 24,
      "outputs": [
        {
          "output_type": "stream",
          "name": "stdout",
          "text": [
            "              X1            X2            X3            X4            X5  \\\n",
            "X1  1.000000e+00 -9.919015e-01 -2.037817e-01 -8.688234e-01  8.277473e-01   \n",
            "X2 -9.919015e-01  1.000000e+00  1.955016e-01  8.807195e-01 -8.581477e-01   \n",
            "X3 -2.037817e-01  1.955016e-01  1.000000e+00 -2.923165e-01  2.809757e-01   \n",
            "X4 -8.688234e-01  8.807195e-01 -2.923165e-01  1.000000e+00 -9.725122e-01   \n",
            "X5  8.277473e-01 -8.581477e-01  2.809757e-01 -9.725122e-01  1.000000e+00   \n",
            "X6  4.678592e-17 -3.459372e-17 -2.429499e-17 -5.830058e-17  4.492205e-17   \n",
            "X7 -2.960552e-15  3.636925e-15 -8.567455e-17 -1.759011e-15  1.489134e-17   \n",
            "X8 -7.107006e-16  2.438409e-15  2.067384e-16 -1.078071e-15 -2.920613e-17   \n",
            "Y1  6.222719e-01 -6.581199e-01  4.556714e-01 -8.618281e-01  8.894305e-01   \n",
            "Y2  6.343391e-01 -6.729989e-01  4.271170e-01 -8.625466e-01  8.957852e-01   \n",
            "\n",
            "              X6            X7            X8        Y1        Y2  \n",
            "X1  4.678592e-17 -2.960552e-15 -7.107006e-16  0.622272  0.634339  \n",
            "X2 -3.459372e-17  3.636925e-15  2.438409e-15 -0.658120 -0.672999  \n",
            "X3 -2.429499e-17 -8.567455e-17  2.067384e-16  0.455671  0.427117  \n",
            "X4 -5.830058e-17 -1.759011e-15 -1.078071e-15 -0.861828 -0.862547  \n",
            "X5  4.492205e-17  1.489134e-17 -2.920613e-17  0.889430  0.895785  \n",
            "X6  1.000000e+00 -9.406007e-16 -2.549352e-16 -0.002587  0.014290  \n",
            "X7 -9.406007e-16  1.000000e+00  2.129642e-01  0.269842  0.207505  \n",
            "X8 -2.549352e-16  2.129642e-01  1.000000e+00  0.087368  0.050525  \n",
            "Y1 -2.586763e-03  2.698417e-01  8.736846e-02  1.000000  0.975862  \n",
            "Y2  1.428960e-02  2.075050e-01  5.052512e-02  0.975862  1.000000  \n"
          ]
        }
      ]
    },
    {
      "cell_type": "code",
      "source": [
        "#Визуализация корреляционной матрици\n",
        "sns.heatmap(correlation_matrix, annot=True, fmt=\".2f\")"
      ],
      "metadata": {
        "colab": {
          "base_uri": "https://localhost:8080/",
          "height": 158
        },
        "id": "pP5XtpJv1YsV",
        "outputId": "e36d09c7-8ee3-4fc4-9a25-04b76623753f"
      },
      "execution_count": 25,
      "outputs": [
        {
          "output_type": "error",
          "ename": "NameError",
          "evalue": "name 'sns' is not defined",
          "traceback": [
            "\u001b[0;31m---------------------------------------------------------------------------\u001b[0m",
            "\u001b[0;31mNameError\u001b[0m                                 Traceback (most recent call last)",
            "\u001b[0;32m/tmp/ipython-input-377610882.py\u001b[0m in \u001b[0;36m<cell line: 0>\u001b[0;34m()\u001b[0m\n\u001b[1;32m      1\u001b[0m \u001b[0;31m#Визуализация корреляционной матрици\u001b[0m\u001b[0;34m\u001b[0m\u001b[0;34m\u001b[0m\u001b[0m\n\u001b[0;32m----> 2\u001b[0;31m \u001b[0msns\u001b[0m\u001b[0;34m.\u001b[0m\u001b[0mheatmap\u001b[0m\u001b[0;34m(\u001b[0m\u001b[0mcorrelation_matrix\u001b[0m\u001b[0;34m,\u001b[0m \u001b[0mannot\u001b[0m\u001b[0;34m=\u001b[0m\u001b[0;32mTrue\u001b[0m\u001b[0;34m,\u001b[0m \u001b[0mfmt\u001b[0m\u001b[0;34m=\u001b[0m\u001b[0;34m\".2f\"\u001b[0m\u001b[0;34m)\u001b[0m\u001b[0;34m\u001b[0m\u001b[0;34m\u001b[0m\u001b[0m\n\u001b[0m",
            "\u001b[0;31mNameError\u001b[0m: name 'sns' is not defined"
          ]
        }
      ]
    },
    {
      "cell_type": "markdown",
      "source": [
        "#Выводы по разделу 6"
      ],
      "metadata": {
        "id": "2jU_zzwgER1Q"
      }
    },
    {
      "cell_type": "markdown",
      "source": [
        "## 7) Визуализация данных\n",
        "\n",
        "Выбрать **существенные** признаки.\n",
        "\n",
        "Под **существенным** будем понимать признак, коэффициент корреляции которого с целевым признаком превышает по абсолютной величине 0.6. Если таких признаков нет, считать существенными все признаки.\n",
        "\n",
        "Построить зависимости каждого из целевых признаков от 4-х \"существенных\", имеющих наибольший по модулю коэффициент корреляции."
      ],
      "metadata": {
        "id": "dCn0F0j_02Xw"
      }
    },
    {
      "cell_type": "code",
      "source": [
        "#Импортировать библиотеку seaborn\n",
        "import seaborn as sns"
      ],
      "metadata": {
        "id": "LnXlqrIi1srz"
      },
      "execution_count": null,
      "outputs": []
    },
    {
      "cell_type": "code",
      "source": [
        "#Первая зависимость\n",
        "sns.relplot(data=data, x=\"X1\", y=\"Y1\", kind = 'line')\n",
        "print(np.corrcoef(data['X5'], data['Y1']))"
      ],
      "metadata": {
        "id": "xbHUK2H-164p"
      },
      "execution_count": null,
      "outputs": []
    },
    {
      "cell_type": "code",
      "source": [
        "#Вторая зависимость\n",
        "sns.relplot(data=data, x=\"X2\", y=\"Y1\", kind = 'line')\n",
        "print(np.corrcoef(data['X3'], data['Y1']))"
      ],
      "metadata": {
        "id": "jEMUe-ef7lgk"
      },
      "execution_count": null,
      "outputs": []
    },
    {
      "cell_type": "code",
      "source": [
        "#Третья зависимость\n",
        "sns.relplot(data=data, x=\"X3\", y=\"Y1\", kind = 'line')\n",
        "print(np.corrcoef(data['X2'], data['Y1']))"
      ],
      "metadata": {
        "id": "_CQg9kX88WTB"
      },
      "execution_count": null,
      "outputs": []
    },
    {
      "cell_type": "code",
      "source": [
        "#Четвёртая зависимость\n",
        "sns.relplot(data=data, x=\"X4\", y=\"Y1\",kind = 'line')\n",
        "print(np.corrcoef(data['X1'], data['Y1']))"
      ],
      "metadata": {
        "id": "Z8BqmlC788J6"
      },
      "execution_count": null,
      "outputs": []
    },
    {
      "cell_type": "code",
      "source": [
        "#Шестая зависимость\n",
        "sns.relplot(data=data, x=\"X4\", y=\"Y2\", kind = 'line')\n",
        "print(np.corrcoef(data['X4'], data['Y2']))"
      ],
      "metadata": {
        "id": "uOWCk4J8t762"
      },
      "execution_count": null,
      "outputs": []
    },
    {
      "cell_type": "code",
      "source": [
        "#Пятая зависимость\n",
        "sns.relplot(data=data, x=\"X5\", y=\"Y2\", kind = 'line')\n",
        "print(np.corrcoef(data['X5'], data['Y2']))"
      ],
      "metadata": {
        "id": "JXgwxaI_uWNZ"
      },
      "execution_count": null,
      "outputs": []
    },
    {
      "cell_type": "code",
      "source": [
        "#Седьмая зависимость\n",
        "sns.relplot(data=data, x=\"X2\", y=\"Y2\", kind = 'line')\n",
        "print(np.corrcoef(data['X2'], data['Y2']))"
      ],
      "metadata": {
        "id": "kR8h4B5xuiTy"
      },
      "execution_count": null,
      "outputs": []
    },
    {
      "cell_type": "code",
      "source": [
        "#девятая зависимость (интересно посмотреть на зависимость целевых параметров)\n",
        "#Первая зависимость\n",
        "sns.relplot(data=data, x=\"Y1\", y=\"Y2\", kind = 'line')\n",
        "print(np.corrcoef(data['Y1'], data['Y2']))"
      ],
      "metadata": {
        "id": "r3DcizCmvFXx"
      },
      "execution_count": null,
      "outputs": []
    },
    {
      "cell_type": "markdown",
      "source": [
        "#Выводы по разделу 7"
      ],
      "metadata": {
        "id": "EfNcE68gFxZI"
      }
    },
    {
      "cell_type": "markdown",
      "source": [
        "# 8) Подготова данных для обучения"
      ],
      "metadata": {
        "id": "77DcnEznmsqD"
      }
    },
    {
      "cell_type": "markdown",
      "source": [
        "Сформировать набор данных, состоящий из существенных признаков. Целевые признаки в набор данных не включаются.\n",
        "\n",
        "Сформировать наборы данных, состоящие из целевых признаков.\n"
      ],
      "metadata": {
        "id": "sHiWZft7m40w"
      }
    },
    {
      "cell_type": "code",
      "source": [
        "#Ваш код для формирования указанных наборов данных\n",
        "significant = data.loc[:, ['X5', 'X4', 'X2', 'X1']]\n",
        "print(significant.head())\n",
        "target_1 = data.loc[:, ['Y1']]\n",
        "target_2 = data.loc[:,['Y2']]\n",
        "print(target_2.head())"
      ],
      "metadata": {
        "id": "0XLqZmDTnX0x",
        "colab": {
          "base_uri": "https://localhost:8080/"
        },
        "outputId": "27f713e2-f79c-4ad2-b48a-55fd64a39265"
      },
      "execution_count": 27,
      "outputs": [
        {
          "output_type": "stream",
          "name": "stdout",
          "text": [
            "    X5      X4     X2    X1\n",
            "0  7.0  110.25  514.5  0.98\n",
            "1  7.0  110.25  514.5  0.98\n",
            "2  7.0  110.25  514.5  0.98\n",
            "3  7.0  110.25  514.5  0.98\n",
            "4  7.0  122.50  563.5  0.90\n",
            "      Y2\n",
            "0  21.33\n",
            "1  21.33\n",
            "2  21.33\n",
            "3  21.33\n",
            "4  28.28\n"
          ]
        }
      ]
    },
    {
      "cell_type": "markdown",
      "source": [
        "## 8.1) Выполнить нормализацию данных для набора существенных признаков."
      ],
      "metadata": {
        "id": "QRZw5wTcn3go"
      }
    },
    {
      "cell_type": "code",
      "source": [
        "#Импортировать библиотеку preprocessing\n",
        "#Выполнить нормализацию данных\n",
        "scaler = StandardScaler()\n",
        "normalized_significant = scaler.fit_transform(significant)"
      ],
      "metadata": {
        "id": "jjs9sw5WmlX_"
      },
      "execution_count": 28,
      "outputs": []
    },
    {
      "cell_type": "code",
      "source": [
        "#Вывести первые 5 строк нормализованного набора данных\n",
        "normalized_sagnificant_df = pd.DataFrame(normalized_significant)\n",
        "print(normalized_sagnificant_df.head())"
      ],
      "metadata": {
        "id": "-VMmOAIGol_K",
        "colab": {
          "base_uri": "https://localhost:8080/"
        },
        "outputId": "e4657493-d327-46ef-c7c3-928476756753"
      },
      "execution_count": 29,
      "outputs": [
        {
          "output_type": "stream",
          "name": "stdout",
          "text": [
            "     0         1         2         3\n",
            "0  1.0 -1.470077 -1.785875  2.041777\n",
            "1  1.0 -1.470077 -1.785875  2.041777\n",
            "2  1.0 -1.470077 -1.785875  2.041777\n",
            "3  1.0 -1.470077 -1.785875  2.041777\n",
            "4  1.0 -1.198678 -1.229239  1.284979\n"
          ]
        }
      ]
    },
    {
      "cell_type": "markdown",
      "source": [
        "## 8.2) Разделение набора данных"
      ],
      "metadata": {
        "id": "2fqhC8DKpUjW"
      }
    },
    {
      "cell_type": "markdown",
      "source": [
        "Разделить нормализованный набор данных и набор данных, содержащий целевой признак, на обучающую и тестовую выборки"
      ],
      "metadata": {
        "id": "94XCv9qRo0VR"
      }
    },
    {
      "cell_type": "code",
      "source": [
        "#Импортировать библиотеку train_test_split\n",
        "#Выполнить разделение нормализованного набора данных на обучающую и тестовую выборки\n",
        "from sklearn.model_selection import train_test_split\n",
        "X_train_1, X_test_1, y_train_1, y_test_1 = train_test_split(normalized_sagnificant_df, target_1, test_size=0.3, shuffle=True, random_state=42)\n",
        "X_train_2, X_test_2, y_train_2, y_test_2 = train_test_split(normalized_sagnificant_df, target_2, test_size=0.3, shuffle=True, random_state=42)\n",
        "print(X_train_1.head())\n",
        "print(y_train_1.head())\n",
        "print('Длинна тренеровочной выборки %s'%(X_train_1.size))\n",
        "print('Длинна тестовой выборки %s'%(X_test_1.size))\n"
      ],
      "metadata": {
        "id": "hoy3eOD1pdDK",
        "colab": {
          "base_uri": "https://localhost:8080/"
        },
        "outputId": "52efc406-f0c4-45c3-9da5-d869e0efcc01"
      },
      "execution_count": 30,
      "outputs": [
        {
          "output_type": "stream",
          "name": "stdout",
          "text": [
            "       0         1         2         3\n",
            "334 -1.0  0.972512  1.553943 -1.363812\n",
            "139 -1.0  0.972512  1.275625 -1.174613\n",
            "485  1.0 -1.198678 -1.229239  1.284979\n",
            "547  1.0 -0.655880 -0.394284  0.244383\n",
            "18   1.0 -0.655880 -0.394284  0.244383\n",
            "        Y1\n",
            "334  15.08\n",
            "139  15.19\n",
            "485  32.31\n",
            "547  41.67\n",
            "18   29.63\n",
            "Длинна тренеровочной выборки 2148\n",
            "Длинна тестовой выборки 924\n"
          ]
        }
      ]
    },
    {
      "cell_type": "markdown",
      "source": [
        "# 9) Обучение модели"
      ],
      "metadata": {
        "id": "Yshr4Padp3gQ"
      }
    },
    {
      "cell_type": "markdown",
      "source": [
        "Обучить модель линейной регрессии."
      ],
      "metadata": {
        "id": "rx1Ajc3yp8tb"
      }
    },
    {
      "cell_type": "code",
      "source": [
        "#Импортировать библиотеку LinearRegression\n",
        "#Выполить обучение модели для каждого из двух целевых признаков\n",
        "from sklearn.linear_model import LinearRegression\n",
        "reg_1 = LinearRegression().fit(X_train_1, y_train_1)\n",
        "reg_2 = LinearRegression().fit(X_train_2, y_train_2)"
      ],
      "metadata": {
        "id": "Terw8pnmqDk4"
      },
      "execution_count": 31,
      "outputs": []
    },
    {
      "cell_type": "markdown",
      "source": [
        "## 10) Оценка качества модели"
      ],
      "metadata": {
        "id": "m51IE834rJfv"
      }
    },
    {
      "cell_type": "markdown",
      "source": [
        "Вычислить прогнозные значения для тестового набора данных"
      ],
      "metadata": {
        "id": "7BNDnlbarXIv"
      }
    },
    {
      "cell_type": "code",
      "source": [
        "#Ваш код для вычисления прогнозных значений\n",
        "y_pred_1 = reg_1.predict(X_test_1)\n",
        "y_pred_2 = reg_2.predict(X_test_2)\n",
        "print(y_pred_1[:5])\n",
        "print(y_test_1[:5])"
      ],
      "metadata": {
        "id": "yjpbHA2JrOyv",
        "colab": {
          "base_uri": "https://localhost:8080/"
        },
        "outputId": "05f80238-5d6e-4878-cfdf-0f6035b37232"
      },
      "execution_count": 32,
      "outputs": [
        {
          "output_type": "stream",
          "name": "stdout",
          "text": [
            "[[15.10541437]\n",
            " [14.09852593]\n",
            " [27.73169208]\n",
            " [32.37400356]\n",
            " [14.60197015]]\n",
            "        Y1\n",
            "668  16.47\n",
            "324  13.17\n",
            "624  32.82\n",
            "690  41.32\n",
            "473  16.69\n"
          ]
        }
      ]
    },
    {
      "cell_type": "markdown",
      "source": [
        "Вычислить оценкbи:\n",
        "\n",
        "\n",
        "* mean squre error\n",
        "* $R^2$  \n",
        "*   explained variance\n",
        "\n"
      ],
      "metadata": {
        "id": "IqyvTx1JrolS"
      }
    },
    {
      "cell_type": "code",
      "source": [
        "#Импортировать библиотеку metrics\n",
        "from sklearn import metrics\n",
        "\n",
        "#Вычислить указанные оценки\n",
        "# Для первой модели (Y1)\n",
        "mse_1 = metrics.mean_squared_error(y_test_1, y_pred_1)\n",
        "r2_1 = metrics.r2_score(y_test_1, y_pred_1)\n",
        "ev_1 = metrics.explained_variance_score(y_test_1, y_pred_1)\n",
        "\n",
        "print(\"Оценки для модели Y1 (эффективность отопления):\")\n",
        "print(f\"Mean Squared Error: {mse_1:.4f}\")\n",
        "print(f\"R² Score: {r2_1:.4f}\")\n",
        "print(f\"Explained Variance: {ev_1:.4f}\")\n",
        "\n",
        "# Для второй модели (Y2)\n",
        "mse_2 = metrics.mean_squared_error(y_test_2, y_pred_2)\n",
        "r2_2 = metrics.r2_score(y_test_2, y_pred_2)\n",
        "ev_2 = metrics.explained_variance_score(y_test_2, y_pred_2)\n",
        "\n",
        "print(\"\\nОценки для модели Y2 (эффективность охлаждения):\")\n",
        "print(f\"Mean Squared Error: {mse_2:.4f}\")\n",
        "print(f\"R² Score: {r2_2:.4f}\")\n",
        "print(f\"Explained Variance: {ev_2:.4f}\")"
      ],
      "metadata": {
        "id": "oePnBdUbrtOA",
        "colab": {
          "base_uri": "https://localhost:8080/"
        },
        "outputId": "bee1e428-102c-4404-d85d-2814ded2e923"
      },
      "execution_count": 33,
      "outputs": [
        {
          "output_type": "stream",
          "name": "stdout",
          "text": [
            "Оценки для модели Y1 (эффективность отопления):\n",
            "Mean Squared Error: 16.1378\n",
            "R² Score: 0.8408\n",
            "Explained Variance: 0.8409\n",
            "\n",
            "Оценки для модели Y2 (эффективность охлаждения):\n",
            "Mean Squared Error: 14.5055\n",
            "R² Score: 0.8391\n",
            "Explained Variance: 0.8400\n"
          ]
        }
      ]
    },
    {
      "cell_type": "markdown",
      "source": [
        "#Выводлы по разделу 10"
      ],
      "metadata": {
        "id": "gmq8bp1nHoQA"
      }
    }
  ]
}