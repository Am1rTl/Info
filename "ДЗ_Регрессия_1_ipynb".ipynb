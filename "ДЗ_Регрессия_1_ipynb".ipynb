{
  "nbformat": 4,
  "nbformat_minor": 0,
  "metadata": {
    "colab": {
      "provenance": [],
      "include_colab_link": true
    },
    "kernelspec": {
      "name": "python3",
      "display_name": "Python 3"
    },
    "language_info": {
      "name": "python"
    }
  },
  "cells": [
    {
      "cell_type": "markdown",
      "metadata": {
        "id": "view-in-github",
        "colab_type": "text"
      },
      "source": [
        "<a href=\"https://colab.research.google.com/github/Am1rTl/Info/blob/main/%22%D0%94%D0%97_%D0%A0%D0%B5%D0%B3%D1%80%D0%B5%D1%81%D1%81%D0%B8%D1%8F_1_ipynb%22.ipynb\" target=\"_parent\"><img src=\"https://colab.research.google.com/assets/colab-badge.svg\" alt=\"Open In Colab\"/></a>"
      ]
    },
    {
      "cell_type": "markdown",
      "source": [
        "# 1) Введение"
      ],
      "metadata": {
        "id": "FbYKXUL0kItj"
      }
    },
    {
      "cell_type": "markdown",
      "source": [
        "## Характеристики набора данных"
      ],
      "metadata": {
        "id": "A3UCtsU8kg6W"
      }
    },
    {
      "cell_type": "markdown",
      "source": [
        "В наборе данных представлены следующие характерисьтики зданий, влияющие на энергоэффективность.\n",
        "\n",
        "Характеристика | Описание\n",
        "--- | :---\n",
        "X1 | Оьносительная компактность\n",
        "X2 | Площадь пола\n",
        "X3 | Площадь стен\n",
        "X4 | Площадь крыши\n",
        "X5 | Средняя высота\n",
        "X6 | Ориентация\n",
        "X7 | Площадь остекления\n",
        "X8 | Распределение площадей остекления\n",
        "Y1 | Эффективность отопления\n",
        "Y2 | Эффективность охладения"
      ],
      "metadata": {
        "id": "_JbiGU1QkPGj"
      }
    },
    {
      "cell_type": "markdown",
      "source": [
        "## 2) Задание"
      ],
      "metadata": {
        "id": "rWj2M_RImQ0X"
      }
    },
    {
      "cell_type": "markdown",
      "source": [
        "Построить модель регресси для предсказания нагрузки отопления и нагрузки охладдения."
      ],
      "metadata": {
        "id": "45pPRpc2mlmo"
      }
    },
    {
      "cell_type": "markdown",
      "source": [
        "# 3) Загрузка набора данных\n",
        "\n",
        "1. Загрузить набор данных ENB2012_data.xlsx в сесионное хранилище.\n",
        "1. Создать DataFrame Pandas. Имена столбцов взять из первой строки файла."
      ],
      "metadata": {
        "id": "5--A64DUoCXV"
      }
    },
    {
      "cell_type": "code",
      "execution_count": 1,
      "metadata": {
        "id": "NbD6B4chgqOa"
      },
      "outputs": [],
      "source": [
        "#Импортировать необходимые библиотеки\n",
        "import pandas as pd"
      ]
    },
    {
      "cell_type": "code",
      "source": [
        "#Загрузить набор данных и создать объект DataFrame"
      ],
      "metadata": {
        "id": "pLgaVlkYpLb6"
      },
      "execution_count": null,
      "outputs": []
    },
    {
      "cell_type": "code",
      "source": [
        "#Вывести первые 5 строк DataFrame"
      ],
      "metadata": {
        "id": "z1pxboBXy3Om"
      },
      "execution_count": null,
      "outputs": []
    },
    {
      "cell_type": "markdown",
      "source": [
        "# 4) Изучение набора данных"
      ],
      "metadata": {
        "id": "_BKwhxvboazR"
      }
    },
    {
      "cell_type": "markdown",
      "source": [
        "## 4.1) Определение типов данных столбцов"
      ],
      "metadata": {
        "id": "NS_RkMOrxTqj"
      }
    },
    {
      "cell_type": "code",
      "source": [
        "#Вывести информацию о DataFrame, позволяющие определить типы столбцов."
      ],
      "metadata": {
        "id": "58y_iqnpu3ng"
      },
      "execution_count": null,
      "outputs": []
    },
    {
      "cell_type": "markdown",
      "source": [
        "## 4.1) Проверка наличия отсутствующих значений"
      ],
      "metadata": {
        "id": "z9Yo4hagxc8Y"
      }
    },
    {
      "cell_type": "code",
      "source": [
        "#Вывести информацию о DataFrame, позволяющие определить наличие отсутствующих значений."
      ],
      "metadata": {
        "id": "Nl6e6-gWxhr7"
      },
      "execution_count": null,
      "outputs": []
    },
    {
      "cell_type": "markdown",
      "source": [
        "## 4.2) Заполнение отсутствующих значений или удаление строк с отсутсвующими значениями\n",
        "\n",
        "Пункт выполняется если в наборе данныъ есть отсутствующие значения"
      ],
      "metadata": {
        "id": "Bkx4q3-Nx_AE"
      }
    },
    {
      "cell_type": "code",
      "source": [
        "#Заполнить пропуске в наборе данных, при их наличии."
      ],
      "metadata": {
        "id": "tGs0LgNayU9M"
      },
      "execution_count": null,
      "outputs": []
    },
    {
      "cell_type": "markdown",
      "source": [
        "## 5) Изучение статистических показателей набора данных"
      ],
      "metadata": {
        "id": "6pT5XMgjzAMI"
      }
    },
    {
      "cell_type": "code",
      "source": [
        "#Рассчитать и вывести статистические характеристики набора данных."
      ],
      "metadata": {
        "id": "BcUXmvguzHnJ"
      },
      "execution_count": null,
      "outputs": []
    },
    {
      "cell_type": "markdown",
      "source": [
        "#Выводы по разделам 4 и 5"
      ],
      "metadata": {
        "id": "vXn1K5g9D3Tl"
      }
    },
    {
      "cell_type": "markdown",
      "source": [
        "# 6) Исследовательский анализ данных"
      ],
      "metadata": {
        "id": "IrTTuXPzzrh8"
      }
    },
    {
      "cell_type": "markdown",
      "source": [
        "## 6.1) Анализ корреляционной матрицы"
      ],
      "metadata": {
        "id": "Rm6M17VUz146"
      }
    },
    {
      "cell_type": "code",
      "source": [
        "#Рассчитать и вывести корреляционную матрицу для исследуемого набора данных."
      ],
      "metadata": {
        "id": "fa-8cGN7yyns"
      },
      "execution_count": null,
      "outputs": []
    },
    {
      "cell_type": "markdown",
      "source": [
        "#Выводы по разделу 6"
      ],
      "metadata": {
        "id": "2jU_zzwgER1Q"
      }
    },
    {
      "cell_type": "markdown",
      "source": [
        "## 7) Визуализация данных\n",
        "\n",
        "Выбрать **существенные** признаки.\n",
        "\n",
        "Под **существенным** будем понимать признак, коэффициент корреляции которого с целевым признаком превышает по абсолютной величине 0.6. Если таких признаков нет, считать существенными все признаки.\n",
        "\n",
        "Построить зависимости каждого из целевых признаков от 4-х \"существенных\", имеющих наибольший по модулю коэффициент корреляции."
      ],
      "metadata": {
        "id": "dCn0F0j_02Xw"
      }
    },
    {
      "cell_type": "code",
      "source": [
        "#Импортировать библиотеку seaborn"
      ],
      "metadata": {
        "id": "LnXlqrIi1srz"
      },
      "execution_count": null,
      "outputs": []
    },
    {
      "cell_type": "code",
      "source": [
        "#Первая зависимость"
      ],
      "metadata": {
        "id": "xbHUK2H-164p"
      },
      "execution_count": null,
      "outputs": []
    },
    {
      "cell_type": "code",
      "source": [
        "#Вторая зависимость\n"
      ],
      "metadata": {
        "id": "jEMUe-ef7lgk"
      },
      "execution_count": null,
      "outputs": []
    },
    {
      "cell_type": "code",
      "source": [
        "#Третья зависимость"
      ],
      "metadata": {
        "id": "_CQg9kX88WTB"
      },
      "execution_count": null,
      "outputs": []
    },
    {
      "cell_type": "code",
      "source": [
        "#Четвёртая зависимость"
      ],
      "metadata": {
        "id": "Z8BqmlC788J6"
      },
      "execution_count": null,
      "outputs": []
    },
    {
      "cell_type": "code",
      "source": [
        "#Пятая зависимость"
      ],
      "metadata": {
        "id": "uOWCk4J8t762"
      },
      "execution_count": null,
      "outputs": []
    },
    {
      "cell_type": "code",
      "source": [
        "#Шестая зависимость"
      ],
      "metadata": {
        "id": "JXgwxaI_uWNZ"
      },
      "execution_count": null,
      "outputs": []
    },
    {
      "cell_type": "code",
      "source": [
        "#Седьмая зависимость"
      ],
      "metadata": {
        "id": "kR8h4B5xuiTy"
      },
      "execution_count": null,
      "outputs": []
    },
    {
      "cell_type": "code",
      "source": [
        "#Восьмая зависимость"
      ],
      "metadata": {
        "id": "r3DcizCmvFXx"
      },
      "execution_count": null,
      "outputs": []
    },
    {
      "cell_type": "markdown",
      "source": [
        "#Выводы по разделу 7"
      ],
      "metadata": {
        "id": "EfNcE68gFxZI"
      }
    },
    {
      "cell_type": "markdown",
      "source": [
        "# 8) Подготова данных для обучения"
      ],
      "metadata": {
        "id": "77DcnEznmsqD"
      }
    },
    {
      "cell_type": "markdown",
      "source": [
        "Сформировать набор данных, состоящий из существенных признаков. Целевые признаки в набор данных не включаются.\n",
        "\n",
        "Сформировать наборы данных, состоящие из целевых признаков.\n"
      ],
      "metadata": {
        "id": "sHiWZft7m40w"
      }
    },
    {
      "cell_type": "code",
      "source": [
        "#Ваш код для формирования указанных наборов данных"
      ],
      "metadata": {
        "id": "0XLqZmDTnX0x"
      },
      "execution_count": null,
      "outputs": []
    },
    {
      "cell_type": "markdown",
      "source": [
        "## 8.1) Выполнить нормализацию данных для набора существенных признаков."
      ],
      "metadata": {
        "id": "QRZw5wTcn3go"
      }
    },
    {
      "cell_type": "code",
      "source": [
        "#Импортировать библиотеку preprocessing\n",
        "#Выполнить нормализацию данных"
      ],
      "metadata": {
        "id": "jjs9sw5WmlX_"
      },
      "execution_count": null,
      "outputs": []
    },
    {
      "cell_type": "code",
      "source": [
        "#Вывести первые 5 строк нормализованного набора данных"
      ],
      "metadata": {
        "id": "-VMmOAIGol_K"
      },
      "execution_count": null,
      "outputs": []
    },
    {
      "cell_type": "markdown",
      "source": [
        "## 8.2) Разделение набора данных"
      ],
      "metadata": {
        "id": "2fqhC8DKpUjW"
      }
    },
    {
      "cell_type": "markdown",
      "source": [
        "Разделить нормализованный набор данных и набор данных, содержащий целевой признак, на обучающую и тестовую выборки"
      ],
      "metadata": {
        "id": "94XCv9qRo0VR"
      }
    },
    {
      "cell_type": "code",
      "source": [
        "#Импортировать библиотеку train_test_split\n",
        "#Выполнить разделение нормализованного набора данных на обучающую и тестовую выборки"
      ],
      "metadata": {
        "id": "hoy3eOD1pdDK"
      },
      "execution_count": null,
      "outputs": []
    },
    {
      "cell_type": "markdown",
      "source": [
        "# 9) Обучение модели"
      ],
      "metadata": {
        "id": "Yshr4Padp3gQ"
      }
    },
    {
      "cell_type": "markdown",
      "source": [
        "Обучить модель линейной регрессии."
      ],
      "metadata": {
        "id": "rx1Ajc3yp8tb"
      }
    },
    {
      "cell_type": "code",
      "source": [
        "#Импортировать библиотеку LinearRegression\n",
        "#Выполить обучение модели для каждого из двух целевых признаков"
      ],
      "metadata": {
        "id": "Terw8pnmqDk4"
      },
      "execution_count": null,
      "outputs": []
    },
    {
      "cell_type": "markdown",
      "source": [
        "## 10) Оценка качества модели"
      ],
      "metadata": {
        "id": "m51IE834rJfv"
      }
    },
    {
      "cell_type": "markdown",
      "source": [
        "Вычислить прогнозные значения для тестового набора данных"
      ],
      "metadata": {
        "id": "7BNDnlbarXIv"
      }
    },
    {
      "cell_type": "code",
      "source": [
        "#Ваш код для вычисления прогнозных значений"
      ],
      "metadata": {
        "id": "yjpbHA2JrOyv"
      },
      "execution_count": null,
      "outputs": []
    },
    {
      "cell_type": "markdown",
      "source": [
        "Вычислить оценкbи:\n",
        "\n",
        "\n",
        "* mean squre error\n",
        "* $R^2$  \n",
        "*   explained variance\n",
        "\n"
      ],
      "metadata": {
        "id": "IqyvTx1JrolS"
      }
    },
    {
      "cell_type": "code",
      "source": [
        "#Импортировать библиотеку metrics\n",
        "#Вычислить указанные оценки"
      ],
      "metadata": {
        "id": "oePnBdUbrtOA"
      },
      "execution_count": null,
      "outputs": []
    },
    {
      "cell_type": "markdown",
      "source": [
        "#Выводлы по разделу 10"
      ],
      "metadata": {
        "id": "gmq8bp1nHoQA"
      }
    }
  ]
}