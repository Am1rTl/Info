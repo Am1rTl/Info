{
  "nbformat": 4,
  "nbformat_minor": 0,
  "metadata": {
    "colab": {
      "provenance": [],
      "include_colab_link": true
    },
    "kernelspec": {
      "name": "python3",
      "display_name": "Python 3"
    },
    "language_info": {
      "name": "python"
    }
  },
  "cells": [
    {
      "cell_type": "markdown",
      "metadata": {
        "id": "view-in-github",
        "colab_type": "text"
      },
      "source": [
        "<a href=\"https://colab.research.google.com/github/Am1rTl/Info/blob/main/%22%D0%94%D0%97_%D0%A0%D0%B5%D0%B3%D1%80%D0%B5%D1%81%D1%81%D0%B8%D1%8F_1_ipynb%22.ipynb\" target=\"_parent\"><img src=\"https://colab.research.google.com/assets/colab-badge.svg\" alt=\"Open In Colab\"/></a>"
      ]
    },
    {
      "cell_type": "markdown",
      "source": [
        "# 1) Введение"
      ],
      "metadata": {
        "id": "FbYKXUL0kItj"
      }
    },
    {
      "cell_type": "markdown",
      "source": [
        "## Характеристики набора данных"
      ],
      "metadata": {
        "id": "A3UCtsU8kg6W"
      }
    },
    {
      "cell_type": "markdown",
      "source": [
        "В наборе данных представлены следующие характерисьтики зданий, влияющие на энергоэффективность.\n",
        "\n",
        "Характеристика | Описание\n",
        "--- | :---\n",
        "X1 | Оьносительная компактность\n",
        "X2 | Площадь пола\n",
        "X3 | Площадь стен\n",
        "X4 | Площадь крыши\n",
        "X5 | Средняя высота\n",
        "X6 | Ориентация\n",
        "X7 | Площадь остекления\n",
        "X8 | Распределение площадей остекления\n",
        "Y1 | Эффективность отопления\n",
        "Y2 | Эффективность охладения"
      ],
      "metadata": {
        "id": "_JbiGU1QkPGj"
      }
    },
    {
      "cell_type": "markdown",
      "source": [
        "## 2) Задание"
      ],
      "metadata": {
        "id": "rWj2M_RImQ0X"
      }
    },
    {
      "cell_type": "markdown",
      "source": [
        "Построить модель регресси для предсказания нагрузки отопления и нагрузки охладдения."
      ],
      "metadata": {
        "id": "45pPRpc2mlmo"
      }
    },
    {
      "cell_type": "markdown",
      "source": [
        "# 3) Загрузка набора данных\n",
        "\n",
        "1. Загрузить набор данных ENB2012_data.xlsx в сесионное хранилище.\n",
        "1. Создать DataFrame Pandas. Имена столбцов взять из первой строки файла."
      ],
      "metadata": {
        "id": "5--A64DUoCXV"
      }
    },
    {
      "cell_type": "code",
      "execution_count": null,
      "metadata": {
        "id": "NbD6B4chgqOa"
      },
      "outputs": [],
      "source": [
        "#Импортировать необходимые библиотеки\n",
        "import pandas as pd"
      ]
    },
    {
      "cell_type": "code",
      "source": [
        "#Загрузить набор данных и создать объект DataFrame\n",
        "data = pd.read_excel(\"ENB2012_data.xlsx\")"
      ],
      "metadata": {
        "id": "pLgaVlkYpLb6"
      },
      "execution_count": null,
      "outputs": []
    },
    {
      "cell_type": "code",
      "source": [
        "#Вывести первые 5 строк DataFrame\n",
        "print(data.head())"
      ],
      "metadata": {
        "id": "z1pxboBXy3Om",
        "colab": {
          "base_uri": "https://localhost:8080/"
        },
        "outputId": "1fa1490c-6e64-4195-cf7d-59eb42a42a4d"
      },
      "execution_count": null,
      "outputs": [
        {
          "output_type": "stream",
          "name": "stdout",
          "text": [
            "     X1     X2     X3      X4   X5  X6   X7  X8     Y1     Y2\n",
            "0  0.98  514.5  294.0  110.25  7.0   2  0.0   0  15.55  21.33\n",
            "1  0.98  514.5  294.0  110.25  7.0   3  0.0   0  15.55  21.33\n",
            "2  0.98  514.5  294.0  110.25  7.0   4  0.0   0  15.55  21.33\n",
            "3  0.98  514.5  294.0  110.25  7.0   5  0.0   0  15.55  21.33\n",
            "4  0.90  563.5  318.5  122.50  7.0   2  0.0   0  20.84  28.28\n"
          ]
        }
      ]
    },
    {
      "cell_type": "markdown",
      "source": [
        "# 4) Изучение набора данных"
      ],
      "metadata": {
        "id": "_BKwhxvboazR"
      }
    },
    {
      "cell_type": "markdown",
      "source": [
        "## 4.1) Определение типов данных столбцов"
      ],
      "metadata": {
        "id": "NS_RkMOrxTqj"
      }
    },
    {
      "cell_type": "code",
      "source": [
        "#Вывести информацию о DataFrame, позволяющие определить типы столбцов.\n",
        "print(data.dtypes)"
      ],
      "metadata": {
        "id": "58y_iqnpu3ng",
        "colab": {
          "base_uri": "https://localhost:8080/"
        },
        "outputId": "98168eb8-2881-4a3c-9daa-cc4a7868ac82"
      },
      "execution_count": null,
      "outputs": [
        {
          "output_type": "stream",
          "name": "stdout",
          "text": [
            "X1    float64\n",
            "X2    float64\n",
            "X3    float64\n",
            "X4    float64\n",
            "X5    float64\n",
            "X6      int64\n",
            "X7    float64\n",
            "X8      int64\n",
            "Y1    float64\n",
            "Y2    float64\n",
            "dtype: object\n"
          ]
        }
      ]
    },
    {
      "cell_type": "markdown",
      "source": [
        "## 4.1) Проверка наличия отсутствующих значений"
      ],
      "metadata": {
        "id": "z9Yo4hagxc8Y"
      }
    },
    {
      "cell_type": "code",
      "source": [
        "#Вывести информацию о DataFrame, позволяющие определить наличие отсутствующих значений.\n",
        "missing_values = data.isnull().sum()\n",
        "print(missing_values)"
      ],
      "metadata": {
        "id": "Nl6e6-gWxhr7",
        "colab": {
          "base_uri": "https://localhost:8080/"
        },
        "outputId": "6d36325a-767e-4ce6-cbfe-a203d449af19"
      },
      "execution_count": null,
      "outputs": [
        {
          "output_type": "stream",
          "name": "stdout",
          "text": [
            "X1    0\n",
            "X2    0\n",
            "X3    0\n",
            "X4    0\n",
            "X5    0\n",
            "X6    0\n",
            "X7    0\n",
            "X8    0\n",
            "Y1    0\n",
            "Y2    0\n",
            "dtype: int64\n"
          ]
        }
      ]
    },
    {
      "cell_type": "markdown",
      "source": [
        "## 4.2) Заполнение отсутствующих значений или удаление строк с отсутсвующими значениями\n",
        "\n",
        "Пункт выполняется если в наборе данныъ есть отсутствующие значения"
      ],
      "metadata": {
        "id": "Bkx4q3-Nx_AE"
      }
    },
    {
      "cell_type": "code",
      "source": [
        "#Заполнить пропуске в наборе данных, при их наличии.\n",
        "data_filled = data.fillna(data.mean())\n",
        "\n",
        "print(data_filled.head())"
      ],
      "metadata": {
        "id": "tGs0LgNayU9M",
        "colab": {
          "base_uri": "https://localhost:8080/"
        },
        "outputId": "68accdbb-2fda-4ede-a585-fe437593d474"
      },
      "execution_count": null,
      "outputs": [
        {
          "output_type": "stream",
          "name": "stdout",
          "text": [
            "     X1     X2     X3      X4   X5  X6   X7  X8     Y1     Y2\n",
            "0  0.98  514.5  294.0  110.25  7.0   2  0.0   0  15.55  21.33\n",
            "1  0.98  514.5  294.0  110.25  7.0   3  0.0   0  15.55  21.33\n",
            "2  0.98  514.5  294.0  110.25  7.0   4  0.0   0  15.55  21.33\n",
            "3  0.98  514.5  294.0  110.25  7.0   5  0.0   0  15.55  21.33\n",
            "4  0.90  563.5  318.5  122.50  7.0   2  0.0   0  20.84  28.28\n"
          ]
        }
      ]
    },
    {
      "cell_type": "markdown",
      "source": [
        "## 5) Изучение статистических показателей набора данных"
      ],
      "metadata": {
        "id": "6pT5XMgjzAMI"
      }
    },
    {
      "cell_type": "code",
      "source": [
        "#Рассчитать и вывести статистические характеристики набора данных.\n",
        "print(data.describe())"
      ],
      "metadata": {
        "id": "BcUXmvguzHnJ",
        "colab": {
          "base_uri": "https://localhost:8080/"
        },
        "outputId": "42654b72-51a3-4467-d83b-f593b665d6b3"
      },
      "execution_count": null,
      "outputs": [
        {
          "output_type": "stream",
          "name": "stdout",
          "text": [
            "               X1          X2          X3          X4         X5          X6  \\\n",
            "count  768.000000  768.000000  768.000000  768.000000  768.00000  768.000000   \n",
            "mean     0.764167  671.708333  318.500000  176.604167    5.25000    3.500000   \n",
            "std      0.105777   88.086116   43.626481   45.165950    1.75114    1.118763   \n",
            "min      0.620000  514.500000  245.000000  110.250000    3.50000    2.000000   \n",
            "25%      0.682500  606.375000  294.000000  140.875000    3.50000    2.750000   \n",
            "50%      0.750000  673.750000  318.500000  183.750000    5.25000    3.500000   \n",
            "75%      0.830000  741.125000  343.000000  220.500000    7.00000    4.250000   \n",
            "max      0.980000  808.500000  416.500000  220.500000    7.00000    5.000000   \n",
            "\n",
            "               X7         X8          Y1          Y2  \n",
            "count  768.000000  768.00000  768.000000  768.000000  \n",
            "mean     0.234375    2.81250   22.307195   24.587760  \n",
            "std      0.133221    1.55096   10.090204    9.513306  \n",
            "min      0.000000    0.00000    6.010000   10.900000  \n",
            "25%      0.100000    1.75000   12.992500   15.620000  \n",
            "50%      0.250000    3.00000   18.950000   22.080000  \n",
            "75%      0.400000    4.00000   31.667500   33.132500  \n",
            "max      0.400000    5.00000   43.100000   48.030000  \n"
          ]
        }
      ]
    },
    {
      "cell_type": "markdown",
      "source": [
        "#Выводы по разделам 4 и 5"
      ],
      "metadata": {
        "id": "vXn1K5g9D3Tl"
      }
    },
    {
      "cell_type": "markdown",
      "source": [
        "# 6) Исследовательский анализ данных"
      ],
      "metadata": {
        "id": "IrTTuXPzzrh8"
      }
    },
    {
      "cell_type": "markdown",
      "source": [
        "## 6.1) Анализ корреляционной матрицы"
      ],
      "metadata": {
        "id": "Rm6M17VUz146"
      }
    },
    {
      "cell_type": "code",
      "source": [
        "#Рассчитать и вывести корреляционную матрицу для исследуемого набора данных.\n",
        "correlation_matrix = data.corr()\n",
        "\n",
        "print(correlation_matrix)"
      ],
      "metadata": {
        "id": "fa-8cGN7yyns"
      },
      "execution_count": null,
      "outputs": []
    },
    {
      "cell_type": "code",
      "source": [
        "#Визуализация корреляционной матрици\n",
        "sns.heatmap(correlation_matrix, annot=True, fmt=\".2f\")"
      ],
      "metadata": {
        "id": "pP5XtpJv1YsV",
        "outputId": "5e173b03-8f33-4b2f-9e15-216279a53212",
        "colab": {
          "base_uri": "https://localhost:8080/",
          "height": 452
        }
      },
      "execution_count": 29,
      "outputs": [
        {
          "output_type": "execute_result",
          "data": {
            "text/plain": [
              "<Axes: >"
            ]
          },
          "metadata": {},
          "execution_count": 29
        },
        {
          "output_type": "display_data",
          "data": {
            "text/plain": [
              "<Figure size 640x480 with 2 Axes>"
            ],
            "image/png": "[encoded data removed]"
          },
          "metadata": {}
        }
      ]
    },
    {
      "cell_type": "markdown",
      "source": [
        "#Выводы по разделу 6"
      ],
      "metadata": {
        "id": "2jU_zzwgER1Q"
      }
    },
    {
      "cell_type": "markdown",
      "source": [
        "## 7) Визуализация данных\n",
        "\n",
        "Выбрать **существенные** признаки.\n",
        "\n",
        "Под **существенным** будем понимать признак, коэффициент корреляции которого с целевым признаком превышает по абсолютной величине 0.6. Если таких признаков нет, считать существенными все признаки.\n",
        "\n",
        "Построить зависимости каждого из целевых признаков от 4-х \"существенных\", имеющих наибольший по модулю коэффициент корреляции."
      ],
      "metadata": {
        "id": "dCn0F0j_02Xw"
      }
    },
    {
      "cell_type": "code",
      "source": [
        "#Импортировать библиотеку seaborn\n",
        "import seaborn as sns"
      ],
      "metadata": {
        "id": "LnXlqrIi1srz"
      },
      "execution_count": 28,
      "outputs": []
    },
    {
      "cell_type": "code",
      "source": [
        "#Первая зависимость"
      ],
      "metadata": {
        "id": "xbHUK2H-164p"
      },
      "execution_count": null,
      "outputs": []
    },
    {
      "cell_type": "code",
      "source": [
        "#Вторая зависимость\n"
      ],
      "metadata": {
        "id": "jEMUe-ef7lgk"
      },
      "execution_count": null,
      "outputs": []
    },
    {
      "cell_type": "code",
      "source": [
        "#Третья зависимость"
      ],
      "metadata": {
        "id": "_CQg9kX88WTB"
      },
      "execution_count": null,
      "outputs": []
    },
    {
      "cell_type": "code",
      "source": [
        "#Четвёртая зависимость"
      ],
      "metadata": {
        "id": "Z8BqmlC788J6"
      },
      "execution_count": null,
      "outputs": []
    },
    {
      "cell_type": "code",
      "source": [
        "#Пятая зависимость"
      ],
      "metadata": {
        "id": "uOWCk4J8t762"
      },
      "execution_count": null,
      "outputs": []
    },
    {
      "cell_type": "code",
      "source": [
        "#Шестая зависимость"
      ],
      "metadata": {
        "id": "JXgwxaI_uWNZ"
      },
      "execution_count": null,
      "outputs": []
    },
    {
      "cell_type": "code",
      "source": [
        "#Седьмая зависимость"
      ],
      "metadata": {
        "id": "kR8h4B5xuiTy"
      },
      "execution_count": null,
      "outputs": []
    },
    {
      "cell_type": "code",
      "source": [
        "#Восьмая зависимость"
      ],
      "metadata": {
        "id": "r3DcizCmvFXx"
      },
      "execution_count": null,
      "outputs": []
    },
    {
      "cell_type": "markdown",
      "source": [
        "#Выводы по разделу 7"
      ],
      "metadata": {
        "id": "EfNcE68gFxZI"
      }
    },
    {
      "cell_type": "markdown",
      "source": [
        "# 8) Подготова данных для обучения"
      ],
      "metadata": {
        "id": "77DcnEznmsqD"
      }
    },
    {
      "cell_type": "markdown",
      "source": [
        "Сформировать набор данных, состоящий из существенных признаков. Целевые признаки в набор данных не включаются.\n",
        "\n",
        "Сформировать наборы данных, состоящие из целевых признаков.\n"
      ],
      "metadata": {
        "id": "sHiWZft7m40w"
      }
    },
    {
      "cell_type": "code",
      "source": [
        "#Ваш код для формирования указанных наборов данных"
      ],
      "metadata": {
        "id": "0XLqZmDTnX0x"
      },
      "execution_count": null,
      "outputs": []
    },
    {
      "cell_type": "markdown",
      "source": [
        "## 8.1) Выполнить нормализацию данных для набора существенных признаков."
      ],
      "metadata": {
        "id": "QRZw5wTcn3go"
      }
    },
    {
      "cell_type": "code",
      "source": [
        "#Импортировать библиотеку preprocessing\n",
        "#Выполнить нормализацию данных"
      ],
      "metadata": {
        "id": "jjs9sw5WmlX_"
      },
      "execution_count": null,
      "outputs": []
    },
    {
      "cell_type": "code",
      "source": [
        "#Вывести первые 5 строк нормализованного набора данных"
      ],
      "metadata": {
        "id": "-VMmOAIGol_K"
      },
      "execution_count": null,
      "outputs": []
    },
    {
      "cell_type": "markdown",
      "source": [
        "## 8.2) Разделение набора данных"
      ],
      "metadata": {
        "id": "2fqhC8DKpUjW"
      }
    },
    {
      "cell_type": "markdown",
      "source": [
        "Разделить нормализованный набор данных и набор данных, содержащий целевой признак, на обучающую и тестовую выборки"
      ],
      "metadata": {
        "id": "94XCv9qRo0VR"
      }
    },
    {
      "cell_type": "code",
      "source": [
        "#Импортировать библиотеку train_test_split\n",
        "#Выполнить разделение нормализованного набора данных на обучающую и тестовую выборки"
      ],
      "metadata": {
        "id": "hoy3eOD1pdDK"
      },
      "execution_count": null,
      "outputs": []
    },
    {
      "cell_type": "markdown",
      "source": [
        "# 9) Обучение модели"
      ],
      "metadata": {
        "id": "Yshr4Padp3gQ"
      }
    },
    {
      "cell_type": "markdown",
      "source": [
        "Обучить модель линейной регрессии."
      ],
      "metadata": {
        "id": "rx1Ajc3yp8tb"
      }
    },
    {
      "cell_type": "code",
      "source": [
        "#Импортировать библиотеку LinearRegression\n",
        "#Выполить обучение модели для каждого из двух целевых признаков"
      ],
      "metadata": {
        "id": "Terw8pnmqDk4"
      },
      "execution_count": null,
      "outputs": []
    },
    {
      "cell_type": "markdown",
      "source": [
        "## 10) Оценка качества модели"
      ],
      "metadata": {
        "id": "m51IE834rJfv"
      }
    },
    {
      "cell_type": "markdown",
      "source": [
        "Вычислить прогнозные значения для тестового набора данных"
      ],
      "metadata": {
        "id": "7BNDnlbarXIv"
      }
    },
    {
      "cell_type": "code",
      "source": [
        "#Ваш код для вычисления прогнозных значений"
      ],
      "metadata": {
        "id": "yjpbHA2JrOyv"
      },
      "execution_count": null,
      "outputs": []
    },
    {
      "cell_type": "markdown",
      "source": [
        "Вычислить оценкbи:\n",
        "\n",
        "\n",
        "* mean squre error\n",
        "* $R^2$  \n",
        "*   explained variance\n",
        "\n"
      ],
      "metadata": {
        "id": "IqyvTx1JrolS"
      }
    },
    {
      "cell_type": "code",
      "source": [
        "#Импортировать библиотеку metrics\n",
        "#Вычислить указанные оценки"
      ],
      "metadata": {
        "id": "oePnBdUbrtOA"
      },
      "execution_count": null,
      "outputs": []
    },
    {
      "cell_type": "markdown",
      "source": [
        "#Выводлы по разделу 10"
      ],
      "metadata": {
        "id": "gmq8bp1nHoQA"
      }
    }
  ]
}