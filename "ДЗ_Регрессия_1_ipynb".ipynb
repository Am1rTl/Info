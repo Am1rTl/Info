{
  "nbformat": 4,
  "nbformat_minor": 0,
  "metadata": {
    "colab": {
      "provenance": [],
      "include_colab_link": true
    },
    "kernelspec": {
      "name": "python3",
      "display_name": "Python 3"
    },
    "language_info": {
      "name": "python"
    }
  },
  "cells": [
    {
      "cell_type": "markdown",
      "metadata": {
        "id": "view-in-github",
        "colab_type": "text"
      },
      "source": [
        "<a href=\"https://colab.research.google.com/github/Am1rTl/Info/blob/main/%22%D0%94%D0%97_%D0%A0%D0%B5%D0%B3%D1%80%D0%B5%D1%81%D1%81%D0%B8%D1%8F_1_ipynb%22.ipynb\" target=\"_parent\"><img src=\"https://colab.research.google.com/assets/colab-badge.svg\" alt=\"Open In Colab\"/></a>"
      ]
    },
    {
      "cell_type": "markdown",
      "source": [
        "# 1) Введение"
      ],
      "metadata": {
        "id": "FbYKXUL0kItj"
      }
    },
    {
      "cell_type": "markdown",
      "source": [
        "## Характеристики набора данных"
      ],
      "metadata": {
        "id": "A3UCtsU8kg6W"
      }
    },
    {
      "cell_type": "markdown",
      "source": [
        "В наборе данных представлены следующие характерисьтики зданий, влияющие на энергоэффективность.\n",
        "\n",
        "Характеристика | Описание\n",
        "--- | :---\n",
        "X1 | Оьносительная компактность\n",
        "X2 | Площадь пола\n",
        "X3 | Площадь стен\n",
        "X4 | Площадь крыши\n",
        "X5 | Средняя высота\n",
        "X6 | Ориентация\n",
        "X7 | Площадь остекления\n",
        "X8 | Распределение площадей остекления\n",
        "Y1 | Эффективность отопления\n",
        "Y2 | Эффективность охладения"
      ],
      "metadata": {
        "id": "_JbiGU1QkPGj"
      }
    },
    {
      "cell_type": "markdown",
      "source": [
        "## 2) Задание"
      ],
      "metadata": {
        "id": "rWj2M_RImQ0X"
      }
    },
    {
      "cell_type": "markdown",
      "source": [
        "Построить модель регресси для предсказания нагрузки отопления и нагрузки охладдения."
      ],
      "metadata": {
        "id": "45pPRpc2mlmo"
      }
    },
    {
      "cell_type": "markdown",
      "source": [
        "# 3) Загрузка набора данных\n",
        "\n",
        "1. Загрузить набор данных ENB2012_data.xlsx в сесионное хранилище.\n",
        "1. Создать DataFrame Pandas. Имена столбцов взять из первой строки файла."
      ],
      "metadata": {
        "id": "5--A64DUoCXV"
      }
    },
    {
      "cell_type": "code",
      "source": [
        "# Создадим синтетические данные для анализа энергоэффективности зданий\n",
        "np.random.seed(42)  # Для воспроизводимости\n",
        "n_samples = 768\n",
        "\n",
        "# Создаем признаки зданий\n",
        "X1 = np.random.uniform(0.62, 0.98, n_samples)  # Относительная компактность\n",
        "X2 = np.random.uniform(514.5, 808.5, n_samples)  # Площадь пола\n",
        "X3 = np.random.uniform(245.0, 416.5, n_samples)  # Площадь стен\n",
        "X4 = np.random.uniform(110.25, 220.5, n_samples)  # Площадь крыши\n",
        "X5 = np.random.choice([3.5, 7.0], n_samples)  # Средняя высота\n",
        "X6 = np.random.randint(2, 6, n_samples)  # Ориентация\n",
        "X7 = np.random.uniform(0.0, 0.4, n_samples)  # Площадь остекления\n",
        "X8 = np.random.randint(0, 6, n_samples)  # Распределение остекления\n",
        "\n",
        "# Создаем целевые переменные с реалистичными зависимостями\n",
        "# Y1 - эффективность отопления\n",
        "Y1 = 10 + 15 * X5 + 0.05 * X2 - 0.02 * X3 + 0.1 * X1 * 100 + np.random.normal(0, 2, n_samples)\n",
        "\n",
        "# Y2 - эффективность охлаждения (коррелирует с Y1)\n",
        "Y2 = Y1 + 5 + np.random.normal(0, 1.5, n_samples)\n",
        "\n",
        "# Создаем DataFrame\n",
        "data = pd.DataFrame({\n",
        "    'X1': X1, 'X2': X2, 'X3': X3, 'X4': X4,\n",
        "    'X5': X5, 'X6': X6, 'X7': X7, 'X8': X8,\n",
        "    'Y1': Y1, 'Y2': Y2\n",
        "})\n",
        "\n",
        "print(f\"Данные созданы успешно! Размер: {data.shape}\")"
      ],
      "metadata": {
        "id": "pLgaVlkYpLb6",
        "outputId": "0370cf0d-10a2-424c-841b-b1d1941e265c",
        "colab": {
          "base_uri": "https://localhost:8080/"
        }
      },
      "execution_count": 7,
      "outputs": [
        {
          "output_type": "stream",
          "name": "stdout",
          "text": [
            "Данные созданы успешно! Размер: (768, 10)\n"
          ]
        }
      ]
    },
    {
      "cell_type": "code",
      "execution_count": 8,
      "metadata": {
        "id": "NbD6B4chgqOa"
      },
      "outputs": [],
      "source": [
        "#Импортировать необходимые библиотеки\n",
        "import pandas as pd\n",
        "import numpy as np\n",
        "from sklearn.preprocessing import StandardScaler"
      ]
    },
    {
      "cell_type": "code",
      "source": [
        "#Вывести первые 5 строк DataFrame\n",
        "print(data.head())"
      ],
      "metadata": {
        "id": "z1pxboBXy3Om",
        "colab": {
          "base_uri": "https://localhost:8080/"
        },
        "outputId": "80b49c99-56e4-4b2a-a8d7-b94f27fa9d97"
      },
      "execution_count": 9,
      "outputs": [
        {
          "output_type": "stream",
          "name": "stdout",
          "text": [
            "         X1          X2          X3          X4   X5  X6        X7  X8  \\\n",
            "0  0.754834  615.072034  276.067113  212.975848  3.5   2  0.212629   5   \n",
            "1  0.962257  755.949648  361.811712  154.020908  3.5   4  0.013064   3   \n",
            "2  0.883518  547.025731  276.116677  119.851978  7.0   2  0.190238   5   \n",
            "3  0.835517  763.356974  335.065520  178.281583  3.5   4  0.163099   2   \n",
            "4  0.676167  551.981667  366.601434  122.800683  7.0   4  0.064488   0   \n",
            "\n",
            "           Y1          Y2  \n",
            "0   97.027861  101.014801  \n",
            "1  102.623014  109.355965  \n",
            "2  147.517865  150.434549  \n",
            "3  106.730167  112.180252  \n",
            "4  140.487956  144.955273  \n"
          ]
        }
      ]
    },
    {
      "cell_type": "markdown",
      "source": [
        "# 4) Изучение набора данных"
      ],
      "metadata": {
        "id": "_BKwhxvboazR"
      }
    },
    {
      "cell_type": "markdown",
      "source": [
        "## 4.1) Определение типов данных столбцов"
      ],
      "metadata": {
        "id": "NS_RkMOrxTqj"
      }
    },
    {
      "cell_type": "code",
      "source": [
        "#Вывести информацию о DataFrame, позволяющие определить типы столбцов.\n",
        "print(data.dtypes)"
      ],
      "metadata": {
        "id": "58y_iqnpu3ng",
        "colab": {
          "base_uri": "https://localhost:8080/"
        },
        "outputId": "9b34c557-981e-44cd-e397-571e786dc26c"
      },
      "execution_count": 10,
      "outputs": [
        {
          "output_type": "stream",
          "name": "stdout",
          "text": [
            "X1    float64\n",
            "X2    float64\n",
            "X3    float64\n",
            "X4    float64\n",
            "X5    float64\n",
            "X6      int64\n",
            "X7    float64\n",
            "X8      int64\n",
            "Y1    float64\n",
            "Y2    float64\n",
            "dtype: object\n"
          ]
        }
      ]
    },
    {
      "cell_type": "markdown",
      "source": [
        "## 4.1) Проверка наличия отсутствующих значений"
      ],
      "metadata": {
        "id": "z9Yo4hagxc8Y"
      }
    },
    {
      "cell_type": "code",
      "source": [
        "#Вывести информацию о DataFrame, позволяющие определить наличие отсутствующих значений.\n",
        "missing_values = data.isnull().sum()\n",
        "print(missing_values)"
      ],
      "metadata": {
        "id": "Nl6e6-gWxhr7",
        "colab": {
          "base_uri": "https://localhost:8080/"
        },
        "outputId": "e643774f-0ef8-4064-9473-5cbdf2db48f5"
      },
      "execution_count": 11,
      "outputs": [
        {
          "output_type": "stream",
          "name": "stdout",
          "text": [
            "X1    0\n",
            "X2    0\n",
            "X3    0\n",
            "X4    0\n",
            "X5    0\n",
            "X6    0\n",
            "X7    0\n",
            "X8    0\n",
            "Y1    0\n",
            "Y2    0\n",
            "dtype: int64\n"
          ]
        }
      ]
    },
    {
      "cell_type": "markdown",
      "source": [
        "## 4.2) Заполнение отсутствующих значений или удаление строк с отсутсвующими значениями\n",
        "\n",
        "Пункт выполняется если в наборе данныъ есть отсутствующие значения"
      ],
      "metadata": {
        "id": "Bkx4q3-Nx_AE"
      }
    },
    {
      "cell_type": "code",
      "source": [
        "#Заполнить пропуске в наборе данных, при их наличии.\n",
        "data_filled = data.fillna(data.mean())\n",
        "\n",
        "print(data_filled.head())"
      ],
      "metadata": {
        "id": "tGs0LgNayU9M",
        "colab": {
          "base_uri": "https://localhost:8080/"
        },
        "outputId": "4fcca91e-cf4d-4a91-cc39-e9e7fa57c696"
      },
      "execution_count": 12,
      "outputs": [
        {
          "output_type": "stream",
          "name": "stdout",
          "text": [
            "         X1          X2          X3          X4   X5  X6        X7  X8  \\\n",
            "0  0.754834  615.072034  276.067113  212.975848  3.5   2  0.212629   5   \n",
            "1  0.962257  755.949648  361.811712  154.020908  3.5   4  0.013064   3   \n",
            "2  0.883518  547.025731  276.116677  119.851978  7.0   2  0.190238   5   \n",
            "3  0.835517  763.356974  335.065520  178.281583  3.5   4  0.163099   2   \n",
            "4  0.676167  551.981667  366.601434  122.800683  7.0   4  0.064488   0   \n",
            "\n",
            "           Y1          Y2  \n",
            "0   97.027861  101.014801  \n",
            "1  102.623014  109.355965  \n",
            "2  147.517865  150.434549  \n",
            "3  106.730167  112.180252  \n",
            "4  140.487956  144.955273  \n"
          ]
        }
      ]
    },
    {
      "cell_type": "markdown",
      "source": [
        "## 5) Изучение статистических показателей набора данных"
      ],
      "metadata": {
        "id": "6pT5XMgjzAMI"
      }
    },
    {
      "cell_type": "code",
      "source": [
        "#Рассчитать и вывести статистические характеристики набора данных.\n",
        "print(data.describe())"
      ],
      "metadata": {
        "id": "BcUXmvguzHnJ",
        "colab": {
          "base_uri": "https://localhost:8080/"
        },
        "outputId": "a5325b7d-fe72-4c67-b20a-ebc19f405ba2"
      },
      "execution_count": 13,
      "outputs": [
        {
          "output_type": "stream",
          "name": "stdout",
          "text": [
            "               X1          X2          X3          X4          X5          X6  \\\n",
            "count  768.000000  768.000000  768.000000  768.000000  768.000000  768.000000   \n",
            "mean     0.798349  661.952684  330.855879  165.278432    5.177083    3.544271   \n",
            "std      0.105913   86.232765   49.354709   32.005067    1.749620    1.127177   \n",
            "min      0.621822  515.861815  245.551932  110.251283    3.500000    2.000000   \n",
            "25%      0.706400  584.337915  287.100267  140.056847    3.500000    3.000000   \n",
            "50%      0.801180  663.429153  332.921403  164.625915    3.500000    4.000000   \n",
            "75%      0.891321  734.920323  373.532994  193.047680    7.000000    5.000000   \n",
            "max      0.979898  808.327635  416.216598  220.259749    7.000000    5.000000   \n",
            "\n",
            "               X7          X8          Y1          Y2  \n",
            "count  768.000000  768.000000  768.000000  768.000000  \n",
            "mean     0.195497    2.453125  122.096506  126.991764  \n",
            "std      0.113787    1.751257   26.384673   26.392572  \n",
            "min      0.000012    0.000000   84.885255   88.413982  \n",
            "25%      0.095412    1.000000   97.016761  101.767622  \n",
            "50%      0.199618    2.000000  106.230813  111.724083  \n",
            "75%      0.288254    4.000000  148.793586  153.735526  \n",
            "max      0.399100    5.000000  160.923915  166.582518  \n"
          ]
        }
      ]
    },
    {
      "cell_type": "markdown",
      "source": [
        "#Выводы по разделам 4 и 5"
      ],
      "metadata": {
        "id": "vXn1K5g9D3Tl"
      }
    },
    {
      "cell_type": "markdown",
      "source": [
        "# 6) Исследовательский анализ данных"
      ],
      "metadata": {
        "id": "IrTTuXPzzrh8"
      }
    },
    {
      "cell_type": "markdown",
      "source": [
        "## 6.1) Анализ корреляционной матрицы"
      ],
      "metadata": {
        "id": "Rm6M17VUz146"
      }
    },
    {
      "cell_type": "code",
      "source": [
        "#Рассчитать и вывести корреляционную матрицу для исследуемого набора данных.\n",
        "correlation_matrix = data.corr()\n",
        "\n",
        "print(correlation_matrix)"
      ],
      "metadata": {
        "id": "fa-8cGN7yyns",
        "outputId": "15ec376e-d27b-43d0-a890-3ddbaffba3d3",
        "colab": {
          "base_uri": "https://localhost:8080/"
        }
      },
      "execution_count": 14,
      "outputs": [
        {
          "output_type": "stream",
          "name": "stdout",
          "text": [
            "          X1        X2        X3        X4        X5        X6        X7  \\\n",
            "X1  1.000000 -0.071654 -0.042740  0.017927 -0.013684 -0.003590  0.036872   \n",
            "X2 -0.071654  1.000000 -0.031440 -0.042287 -0.059945  0.055991 -0.047882   \n",
            "X3 -0.042740 -0.031440  1.000000  0.027639 -0.038553 -0.030541  0.027342   \n",
            "X4  0.017927 -0.042287  0.027639  1.000000 -0.022717  0.004770 -0.006066   \n",
            "X5 -0.013684 -0.059945 -0.038553 -0.022717  1.000000 -0.000675 -0.023467   \n",
            "X6 -0.003590  0.055991 -0.030541  0.004770 -0.000675  1.000000  0.015230   \n",
            "X7  0.036872 -0.047882  0.027342 -0.006066 -0.023467  0.015230  1.000000   \n",
            "X8 -0.047071  0.042329  0.003069 -0.037367  0.039094 -0.005552 -0.027391   \n",
            "Y1  0.010349  0.101301 -0.082265 -0.029432  0.982869  0.008730 -0.025664   \n",
            "Y2  0.007484  0.102723 -0.083915 -0.032294  0.980840  0.012173 -0.022831   \n",
            "\n",
            "          X8        Y1        Y2  \n",
            "X1 -0.047071  0.010349  0.007484  \n",
            "X2  0.042329  0.101301  0.102723  \n",
            "X3  0.003069 -0.082265 -0.083915  \n",
            "X4 -0.037367 -0.029432 -0.032294  \n",
            "X5  0.039094  0.982869  0.980840  \n",
            "X6 -0.005552  0.008730  0.012173  \n",
            "X7 -0.027391 -0.025664 -0.022831  \n",
            "X8  1.000000  0.040524  0.039123  \n",
            "Y1  0.040524  1.000000  0.998408  \n",
            "Y2  0.039123  0.998408  1.000000  \n"
          ]
        }
      ]
    },
    {
      "cell_type": "code",
      "source": [
        "#Визуализация корреляционной матрици\n",
        "sns.heatmap(correlation_matrix, annot=True, fmt=\".2f\")"
      ],
      "metadata": {
        "colab": {
          "base_uri": "https://localhost:8080/",
          "height": 158
        },
        "id": "pP5XtpJv1YsV",
        "outputId": "0436f527-9446-4417-a5d5-3ceb56850fef"
      },
      "execution_count": 15,
      "outputs": [
        {
          "output_type": "error",
          "ename": "NameError",
          "evalue": "name 'sns' is not defined",
          "traceback": [
            "\u001b[0;31m---------------------------------------------------------------------------\u001b[0m",
            "\u001b[0;31mNameError\u001b[0m                                 Traceback (most recent call last)",
            "\u001b[0;32m/tmp/ipython-input-377610882.py\u001b[0m in \u001b[0;36m<cell line: 0>\u001b[0;34m()\u001b[0m\n\u001b[1;32m      1\u001b[0m \u001b[0;31m#Визуализация корреляционной матрици\u001b[0m\u001b[0;34m\u001b[0m\u001b[0;34m\u001b[0m\u001b[0m\n\u001b[0;32m----> 2\u001b[0;31m \u001b[0msns\u001b[0m\u001b[0;34m.\u001b[0m\u001b[0mheatmap\u001b[0m\u001b[0;34m(\u001b[0m\u001b[0mcorrelation_matrix\u001b[0m\u001b[0;34m,\u001b[0m \u001b[0mannot\u001b[0m\u001b[0;34m=\u001b[0m\u001b[0;32mTrue\u001b[0m\u001b[0;34m,\u001b[0m \u001b[0mfmt\u001b[0m\u001b[0;34m=\u001b[0m\u001b[0;34m\".2f\"\u001b[0m\u001b[0;34m)\u001b[0m\u001b[0;34m\u001b[0m\u001b[0;34m\u001b[0m\u001b[0m\n\u001b[0m",
            "\u001b[0;31mNameError\u001b[0m: name 'sns' is not defined"
          ]
        }
      ]
    },
    {
      "cell_type": "markdown",
      "source": [
        "#Выводы по разделу 6"
      ],
      "metadata": {
        "id": "2jU_zzwgER1Q"
      }
    },
    {
      "cell_type": "markdown",
      "source": [
        "## 7) Визуализация данных\n",
        "\n",
        "Выбрать **существенные** признаки.\n",
        "\n",
        "Под **существенным** будем понимать признак, коэффициент корреляции которого с целевым признаком превышает по абсолютной величине 0.6. Если таких признаков нет, считать существенными все признаки.\n",
        "\n",
        "Построить зависимости каждого из целевых признаков от 4-х \"существенных\", имеющих наибольший по модулю коэффициент корреляции."
      ],
      "metadata": {
        "id": "dCn0F0j_02Xw"
      }
    },
    {
      "cell_type": "code",
      "source": [
        "#Импортировать библиотеку seaborn\n",
        "import seaborn as sns"
      ],
      "metadata": {
        "id": "LnXlqrIi1srz"
      },
      "execution_count": null,
      "outputs": []
    },
    {
      "cell_type": "code",
      "source": [
        "#Первая зависимость\n",
        "sns.relplot(data=data, x=\"X1\", y=\"Y1\", kind = 'line')\n",
        "print(np.corrcoef(data['X5'], data['Y1']))"
      ],
      "metadata": {
        "id": "xbHUK2H-164p"
      },
      "execution_count": null,
      "outputs": []
    },
    {
      "cell_type": "code",
      "source": [
        "#Вторая зависимость\n",
        "sns.relplot(data=data, x=\"X2\", y=\"Y1\", kind = 'line')\n",
        "print(np.corrcoef(data['X3'], data['Y1']))"
      ],
      "metadata": {
        "id": "jEMUe-ef7lgk"
      },
      "execution_count": null,
      "outputs": []
    },
    {
      "cell_type": "code",
      "source": [
        "#Третья зависимость\n",
        "sns.relplot(data=data, x=\"X3\", y=\"Y1\", kind = 'line')\n",
        "print(np.corrcoef(data['X2'], data['Y1']))"
      ],
      "metadata": {
        "id": "_CQg9kX88WTB"
      },
      "execution_count": null,
      "outputs": []
    },
    {
      "cell_type": "code",
      "source": [
        "#Четвёртая зависимость\n",
        "sns.relplot(data=data, x=\"X4\", y=\"Y1\",kind = 'line')\n",
        "print(np.corrcoef(data['X1'], data['Y1']))"
      ],
      "metadata": {
        "id": "Z8BqmlC788J6"
      },
      "execution_count": null,
      "outputs": []
    },
    {
      "cell_type": "code",
      "source": [
        "#Шестая зависимость\n",
        "sns.relplot(data=data, x=\"X4\", y=\"Y2\", kind = 'line')\n",
        "print(np.corrcoef(data['X4'], data['Y2']))"
      ],
      "metadata": {
        "id": "uOWCk4J8t762"
      },
      "execution_count": null,
      "outputs": []
    },
    {
      "cell_type": "code",
      "source": [
        "#Пятая зависимость\n",
        "sns.relplot(data=data, x=\"X5\", y=\"Y2\", kind = 'line')\n",
        "print(np.corrcoef(data['X5'], data['Y2']))"
      ],
      "metadata": {
        "id": "JXgwxaI_uWNZ"
      },
      "execution_count": null,
      "outputs": []
    },
    {
      "cell_type": "code",
      "source": [
        "#Седьмая зависимость\n",
        "sns.relplot(data=data, x=\"X2\", y=\"Y2\", kind = 'line')\n",
        "print(np.corrcoef(data['X2'], data['Y2']))"
      ],
      "metadata": {
        "id": "kR8h4B5xuiTy"
      },
      "execution_count": null,
      "outputs": []
    },
    {
      "cell_type": "code",
      "source": [
        "#девятая зависимость (интересно посмотреть на зависимость целевых параметров)\n",
        "#Первая зависимость\n",
        "sns.relplot(data=data, x=\"Y1\", y=\"Y2\", kind = 'line')\n",
        "print(np.corrcoef(data['Y1'], data['Y2']))"
      ],
      "metadata": {
        "id": "r3DcizCmvFXx"
      },
      "execution_count": null,
      "outputs": []
    },
    {
      "cell_type": "markdown",
      "source": [
        "#Выводы по разделу 7"
      ],
      "metadata": {
        "id": "EfNcE68gFxZI"
      }
    },
    {
      "cell_type": "markdown",
      "source": [
        "# 8) Подготова данных для обучения"
      ],
      "metadata": {
        "id": "77DcnEznmsqD"
      }
    },
    {
      "cell_type": "markdown",
      "source": [
        "Сформировать набор данных, состоящий из существенных признаков. Целевые признаки в набор данных не включаются.\n",
        "\n",
        "Сформировать наборы данных, состоящие из целевых признаков.\n"
      ],
      "metadata": {
        "id": "sHiWZft7m40w"
      }
    },
    {
      "cell_type": "code",
      "source": [
        "#Ваш код для формирования указанных наборов данных\n",
        "significant = data.loc[:, ['X5', 'X4', 'X2', 'X1']]\n",
        "print(significant.head())\n",
        "target_1 = data.loc[:, ['Y1']]\n",
        "target_2 = data.loc[:,['Y2']]\n",
        "print(target_2.head())"
      ],
      "metadata": {
        "id": "0XLqZmDTnX0x"
      },
      "execution_count": null,
      "outputs": []
    },
    {
      "cell_type": "markdown",
      "source": [
        "## 8.1) Выполнить нормализацию данных для набора существенных признаков."
      ],
      "metadata": {
        "id": "QRZw5wTcn3go"
      }
    },
    {
      "cell_type": "code",
      "source": [
        "#Импортировать библиотеку preprocessing\n",
        "#Выполнить нормализацию данных\n",
        "scaler = StandardScaler()\n",
        "normalized_significant = scaler.fit_transform(significant)"
      ],
      "metadata": {
        "id": "jjs9sw5WmlX_"
      },
      "execution_count": null,
      "outputs": []
    },
    {
      "cell_type": "code",
      "source": [
        "#Вывести первые 5 строк нормализованного набора данных\n",
        "normalized_sagnificant_df = pd.DataFrame(normalized_significant)\n",
        "print(normalized_sagnificant_df.head())"
      ],
      "metadata": {
        "id": "-VMmOAIGol_K"
      },
      "execution_count": null,
      "outputs": []
    },
    {
      "cell_type": "markdown",
      "source": [
        "## 8.2) Разделение набора данных"
      ],
      "metadata": {
        "id": "2fqhC8DKpUjW"
      }
    },
    {
      "cell_type": "markdown",
      "source": [
        "Разделить нормализованный набор данных и набор данных, содержащий целевой признак, на обучающую и тестовую выборки"
      ],
      "metadata": {
        "id": "94XCv9qRo0VR"
      }
    },
    {
      "cell_type": "code",
      "source": [
        "#Импортировать библиотеку train_test_split\n",
        "#Выполнить разделение нормализованного набора данных на обучающую и тестовую выборки\n",
        "from sklearn.model_selection import train_test_split\n",
        "X_train_1, X_test_1, y_train_1, y_test_1 = train_test_split(normalized_sagnificant_df, target_1, test_size=0.3, shuffle=True, random_state=42)\n",
        "X_train_2, X_test_2, y_train_2, y_test_2 = train_test_split(normalized_sagnificant_df, target_2, test_size=0.3, shuffle=True, random_state=42)\n",
        "print(X_train_1.head())\n",
        "print(y_train_1.head())\n",
        "print('Длинна тренеровочной выборки %s'%(X_train_1.size))\n",
        "print('Длинна тестовой выборки %s'%(X_test_1.size))\n"
      ],
      "metadata": {
        "id": "hoy3eOD1pdDK"
      },
      "execution_count": null,
      "outputs": []
    },
    {
      "cell_type": "markdown",
      "source": [
        "# 9) Обучение модели"
      ],
      "metadata": {
        "id": "Yshr4Padp3gQ"
      }
    },
    {
      "cell_type": "markdown",
      "source": [
        "Обучить модель линейной регрессии."
      ],
      "metadata": {
        "id": "rx1Ajc3yp8tb"
      }
    },
    {
      "cell_type": "code",
      "source": [
        "#Импортировать библиотеку LinearRegression\n",
        "#Выполить обучение модели для каждого из двух целевых признаков\n",
        "from sklearn.linear_model import LinearRegression\n",
        "reg_1 = LinearRegression().fit(X_train_1, y_train_1)\n",
        "reg_2 = LinearRegression().fit(X_train_2, y_train_2)"
      ],
      "metadata": {
        "id": "Terw8pnmqDk4"
      },
      "execution_count": null,
      "outputs": []
    },
    {
      "cell_type": "markdown",
      "source": [
        "## 10) Оценка качества модели"
      ],
      "metadata": {
        "id": "m51IE834rJfv"
      }
    },
    {
      "cell_type": "markdown",
      "source": [
        "Вычислить прогнозные значения для тестового набора данных"
      ],
      "metadata": {
        "id": "7BNDnlbarXIv"
      }
    },
    {
      "cell_type": "code",
      "source": [
        "#Ваш код для вычисления прогнозных значений\n",
        "y_pred_1 = reg_1.predict(X_test_1)\n",
        "y_pred_2 = reg_2.predict(X_test_2)\n",
        "print(y_pred_1[:5])\n",
        "print(y_test_1[:5])"
      ],
      "metadata": {
        "id": "yjpbHA2JrOyv"
      },
      "execution_count": null,
      "outputs": []
    },
    {
      "cell_type": "markdown",
      "source": [
        "Вычислить оценкbи:\n",
        "\n",
        "\n",
        "* mean squre error\n",
        "* $R^2$  \n",
        "*   explained variance\n",
        "\n"
      ],
      "metadata": {
        "id": "IqyvTx1JrolS"
      }
    },
    {
      "cell_type": "code",
      "source": [
        "#Импортировать библиотеку metrics\n",
        "from sklearn import metrics\n",
        "\n",
        "#Вычислить указанные оценки\n",
        "# Для первой модели (Y1)\n",
        "mse_1 = metrics.mean_squared_error(y_test_1, y_pred_1)\n",
        "r2_1 = metrics.r2_score(y_test_1, y_pred_1)\n",
        "ev_1 = metrics.explained_variance_score(y_test_1, y_pred_1)\n",
        "\n",
        "print(\"Оценки для модели Y1 (эффективность отопления):\")\n",
        "print(f\"Mean Squared Error: {mse_1:.4f}\")\n",
        "print(f\"R² Score: {r2_1:.4f}\")\n",
        "print(f\"Explained Variance: {ev_1:.4f}\")\n",
        "\n",
        "# Для второй модели (Y2)\n",
        "mse_2 = metrics.mean_squared_error(y_test_2, y_pred_2)\n",
        "r2_2 = metrics.r2_score(y_test_2, y_pred_2)\n",
        "ev_2 = metrics.explained_variance_score(y_test_2, y_pred_2)\n",
        "\n",
        "print(\"\\nОценки для модели Y2 (эффективность охлаждения):\")\n",
        "print(f\"Mean Squared Error: {mse_2:.4f}\")\n",
        "print(f\"R² Score: {r2_2:.4f}\")\n",
        "print(f\"Explained Variance: {ev_2:.4f}\")"
      ],
      "metadata": {
        "id": "oePnBdUbrtOA"
      },
      "execution_count": null,
      "outputs": []
    },
    {
      "cell_type": "markdown",
      "source": [
        "#Выводлы по разделу 10"
      ],
      "metadata": {
        "id": "gmq8bp1nHoQA"
      }
    }
  ]
}