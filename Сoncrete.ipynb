{
  "nbformat": 4,
  "nbformat_minor": 0,
  "metadata": {
    "colab": {
      "provenance": [],
      "include_colab_link": true
    },
    "kernelspec": {
      "name": "python3",
      "display_name": "Python 3"
    },
    "language_info": {
      "name": "python"
    }
  },
  "cells": [
    {
      "cell_type": "markdown",
      "metadata": {
        "id": "view-in-github",
        "colab_type": "text"
      },
      "source": [
        "<a href=\"https://colab.research.google.com/github/Am1rTl/Info/blob/main/%D0%A1oncrete.ipynb\" target=\"_parent\"><img src=\"https://colab.research.google.com/assets/colab-badge.svg\" alt=\"Open In Colab\"/></a>"
      ]
    },
    {
      "cell_type": "markdown",
      "source": [
        "# Введение"
      ],
      "metadata": {
        "id": "FbYKXUL0kItj"
      }
    },
    {
      "cell_type": "markdown",
      "source": [
        "## 1) Характеристики набора данных"
      ],
      "metadata": {
        "id": "A3UCtsU8kg6W"
      }
    },
    {
      "cell_type": "markdown",
      "source": [
        "В наборе данных представлены следующие характерисьтики автомобилей.\n",
        "\n",
        "Характеристика | Описание\n",
        "--- | :---\n",
        "mpg | пробег на обной заправке (миль/галон)\n",
        "cylinders | количество цилиндров\n",
        "displacement |  объём цилиндра\n",
        "horsepower | мощность (лошадиные силы)\n",
        "weight | вес\n",
        "acceleration | ускорение\n",
        "model year | год выпуска\n",
        "origin | страна производства\n",
        "car name | название"
      ],
      "metadata": {
        "id": "_JbiGU1QkPGj"
      }
    },
    {
      "cell_type": "markdown",
      "source": [
        "## 2) Задание"
      ],
      "metadata": {
        "id": "rWj2M_RImQ0X"
      }
    },
    {
      "cell_type": "markdown",
      "source": [
        "Построить мдель регресси для предсказания значения параметра mpg."
      ],
      "metadata": {
        "id": "45pPRpc2mlmo"
      }
    },
    {
      "cell_type": "markdown",
      "source": [
        "# 3) Загрузка набора данных\n",
        "\n",
        "1. Загрузить набор данных auto-mpg.xlsx в сесионное хранилище.\n",
        "1. Создать DataFrame Pandas. Имена столбцов взять из раздела Характеристики набора данных."
      ],
      "metadata": {
        "id": "5--A64DUoCXV"
      }
    },
    {
      "cell_type": "code",
      "execution_count": 29,
      "metadata": {
        "id": "NbD6B4chgqOa"
      },
      "outputs": [],
      "source": [
        "#Импортировать внешнюю библиотеку pandas\n",
        "import pandas as pd"
      ]
    },
    {
      "cell_type": "markdown",
      "source": [],
      "metadata": {
        "id": "VPQoHWaJuzv0"
      }
    },
    {
      "cell_type": "code",
      "source": [
        "# Загрузить набор данных\n",
        "# Создать DataFrame с колонками из раздела характеристик\n",
        "column_names = ['mpg', 'cylinders', 'displacement', 'horsepower', 'weight', 'acceleration', 'model_year', 'origin', 'car_name']\n",
        "df = pd.read_excel('Concrete_Data.xlsx', names=column_names)"
      ],
      "metadata": {
        "id": "pLgaVlkYpLb6"
      },
      "execution_count": 30,
      "outputs": []
    },
    {
      "cell_type": "code",
      "source": [
        "# Вывести первые 5 строк набора данных\n",
        "df.head()"
      ],
      "metadata": {
        "id": "z1pxboBXy3Om",
        "colab": {
          "base_uri": "https://localhost:8080/",
          "height": 226
        },
        "outputId": "564b9661-663c-4960-dfe7-406bb38827fa"
      },
      "execution_count": 31,
      "outputs": [
        {
          "output_type": "execute_result",
          "data": {
            "text/plain": [
              "     mpg  cylinders  displacement  horsepower  weight  acceleration  \\\n",
              "0  540.0        0.0           0.0       162.0     2.5        1040.0   \n",
              "1  540.0        0.0           0.0       162.0     2.5        1055.0   \n",
              "2  332.5      142.5           0.0       228.0     0.0         932.0   \n",
              "3  332.5      142.5           0.0       228.0     0.0         932.0   \n",
              "4  198.6      132.4           0.0       192.0     0.0         978.4   \n",
              "\n",
              "   model_year  origin   car_name  \n",
              "0       676.0      28  79.986111  \n",
              "1       676.0      28  61.887366  \n",
              "2       594.0     270  40.269535  \n",
              "3       594.0     365  41.052780  \n",
              "4       825.5     360  44.296075  "
            ],
            "text/html": [
              "\n",
              "  <div id=\"df-10a12648-d44d-4206-b46d-4a688697cf66\" class=\"colab-df-container\">\n",
              "    <div>\n",
              "<style scoped>\n",
              "    .dataframe tbody tr th:only-of-type {\n",
              "        vertical-align: middle;\n",
              "    }\n",
              "\n",
              "    .dataframe tbody tr th {\n",
              "        vertical-align: top;\n",
              "    }\n",
              "\n",
              "    .dataframe thead th {\n",
              "        text-align: right;\n",
              "    }\n",
              "</style>\n",
              "<table border=\"1\" class=\"dataframe\">\n",
              "  <thead>\n",
              "    <tr style=\"text-align: right;\">\n",
              "      <th></th>\n",
              "      <th>mpg</th>\n",
              "      <th>cylinders</th>\n",
              "      <th>displacement</th>\n",
              "      <th>horsepower</th>\n",
              "      <th>weight</th>\n",
              "      <th>acceleration</th>\n",
              "      <th>model_year</th>\n",
              "      <th>origin</th>\n",
              "      <th>car_name</th>\n",
              "    </tr>\n",
              "  </thead>\n",
              "  <tbody>\n",
              "    <tr>\n",
              "      <th>0</th>\n",
              "      <td>540.0</td>\n",
              "      <td>0.0</td>\n",
              "      <td>0.0</td>\n",
              "      <td>162.0</td>\n",
              "      <td>2.5</td>\n",
              "      <td>1040.0</td>\n",
              "      <td>676.0</td>\n",
              "      <td>28</td>\n",
              "      <td>79.986111</td>\n",
              "    </tr>\n",
              "    <tr>\n",
              "      <th>1</th>\n",
              "      <td>540.0</td>\n",
              "      <td>0.0</td>\n",
              "      <td>0.0</td>\n",
              "      <td>162.0</td>\n",
              "      <td>2.5</td>\n",
              "      <td>1055.0</td>\n",
              "      <td>676.0</td>\n",
              "      <td>28</td>\n",
              "      <td>61.887366</td>\n",
              "    </tr>\n",
              "    <tr>\n",
              "      <th>2</th>\n",
              "      <td>332.5</td>\n",
              "      <td>142.5</td>\n",
              "      <td>0.0</td>\n",
              "      <td>228.0</td>\n",
              "      <td>0.0</td>\n",
              "      <td>932.0</td>\n",
              "      <td>594.0</td>\n",
              "      <td>270</td>\n",
              "      <td>40.269535</td>\n",
              "    </tr>\n",
              "    <tr>\n",
              "      <th>3</th>\n",
              "      <td>332.5</td>\n",
              "      <td>142.5</td>\n",
              "      <td>0.0</td>\n",
              "      <td>228.0</td>\n",
              "      <td>0.0</td>\n",
              "      <td>932.0</td>\n",
              "      <td>594.0</td>\n",
              "      <td>365</td>\n",
              "      <td>41.052780</td>\n",
              "    </tr>\n",
              "    <tr>\n",
              "      <th>4</th>\n",
              "      <td>198.6</td>\n",
              "      <td>132.4</td>\n",
              "      <td>0.0</td>\n",
              "      <td>192.0</td>\n",
              "      <td>0.0</td>\n",
              "      <td>978.4</td>\n",
              "      <td>825.5</td>\n",
              "      <td>360</td>\n",
              "      <td>44.296075</td>\n",
              "    </tr>\n",
              "  </tbody>\n",
              "</table>\n",
              "</div>\n",
              "    <div class=\"colab-df-buttons\">\n",
              "\n",
              "  <div class=\"colab-df-container\">\n",
              "    <button class=\"colab-df-convert\" onclick=\"convertToInteractive('df-10a12648-d44d-4206-b46d-4a688697cf66')\"\n",
              "            title=\"Convert this dataframe to an interactive table.\"\n",
              "            style=\"display:none;\">\n",
              "\n",
              "  <svg xmlns=\"http://www.w3.org/2000/svg\" height=\"24px\" viewBox=\"0 -960 960 960\">\n",
              "    <path d=\"M120-120v-720h720v720H120Zm60-500h600v-160H180v160Zm220 220h160v-160H400v160Zm0 220h160v-160H400v160ZM180-400h160v-160H180v160Zm440 0h160v-160H620v160ZM180-180h160v-160H180v160Zm440 0h160v-160H620v160Z\"/>\n",
              "  </svg>\n",
              "    </button>\n",
              "\n",
              "  <style>\n",
              "    .colab-df-container {\n",
              "      display:flex;\n",
              "      gap: 12px;\n",
              "    }\n",
              "\n",
              "    .colab-df-convert {\n",
              "      background-color: #E8F0FE;\n",
              "      border: none;\n",
              "      border-radius: 50%;\n",
              "      cursor: pointer;\n",
              "      display: none;\n",
              "      fill: #1967D2;\n",
              "      height: 32px;\n",
              "      padding: 0 0 0 0;\n",
              "      width: 32px;\n",
              "    }\n",
              "\n",
              "    .colab-df-convert:hover {\n",
              "      background-color: #E2EBFA;\n",
              "      box-shadow: 0px 1px 2px rgba(60, 64, 67, 0.3), 0px 1px 3px 1px rgba(60, 64, 67, 0.15);\n",
              "      fill: #174EA6;\n",
              "    }\n",
              "\n",
              "    .colab-df-buttons div {\n",
              "      margin-bottom: 4px;\n",
              "    }\n",
              "\n",
              "    [theme=dark] .colab-df-convert {\n",
              "      background-color: #3B4455;\n",
              "      fill: #D2E3FC;\n",
              "    }\n",
              "\n",
              "    [theme=dark] .colab-df-convert:hover {\n",
              "      background-color: #434B5C;\n",
              "      box-shadow: 0px 1px 3px 1px rgba(0, 0, 0, 0.15);\n",
              "      filter: drop-shadow(0px 1px 2px rgba(0, 0, 0, 0.3));\n",
              "      fill: #FFFFFF;\n",
              "    }\n",
              "  </style>\n",
              "\n",
              "    <script>\n",
              "      const buttonEl =\n",
              "        document.querySelector('#df-10a12648-d44d-4206-b46d-4a688697cf66 button.colab-df-convert');\n",
              "      buttonEl.style.display =\n",
              "        google.colab.kernel.accessAllowed ? 'block' : 'none';\n",
              "\n",
              "      async function convertToInteractive(key) {\n",
              "        const element = document.querySelector('#df-10a12648-d44d-4206-b46d-4a688697cf66');\n",
              "        const dataTable =\n",
              "          await google.colab.kernel.invokeFunction('convertToInteractive',\n",
              "                                                    [key], {});\n",
              "        if (!dataTable) return;\n",
              "\n",
              "        const docLinkHtml = 'Like what you see? Visit the ' +\n",
              "          '<a target=\"_blank\" href=https://colab.research.google.com/notebooks/data_table.ipynb>data table notebook</a>'\n",
              "          + ' to learn more about interactive tables.';\n",
              "        element.innerHTML = '';\n",
              "        dataTable['output_type'] = 'display_data';\n",
              "        await google.colab.output.renderOutput(dataTable, element);\n",
              "        const docLink = document.createElement('div');\n",
              "        docLink.innerHTML = docLinkHtml;\n",
              "        element.appendChild(docLink);\n",
              "      }\n",
              "    </script>\n",
              "  </div>\n",
              "\n",
              "\n",
              "    <div id=\"df-36ca7352-bb5e-4a90-8669-e6fbe06a20b3\">\n",
              "      <button class=\"colab-df-quickchart\" onclick=\"quickchart('df-36ca7352-bb5e-4a90-8669-e6fbe06a20b3')\"\n",
              "                title=\"Suggest charts\"\n",
              "                style=\"display:none;\">\n",
              "\n",
              "<svg xmlns=\"http://www.w3.org/2000/svg\" height=\"24px\"viewBox=\"0 0 24 24\"\n",
              "     width=\"24px\">\n",
              "    <g>\n",
              "        <path d=\"M19 3H5c-1.1 0-2 .9-2 2v14c0 1.1.9 2 2 2h14c1.1 0 2-.9 2-2V5c0-1.1-.9-2-2-2zM9 17H7v-7h2v7zm4 0h-2V7h2v10zm4 0h-2v-4h2v4z\"/>\n",
              "    </g>\n",
              "</svg>\n",
              "      </button>\n",
              "\n",
              "<style>\n",
              "  .colab-df-quickchart {\n",
              "      --bg-color: #E8F0FE;\n",
              "      --fill-color: #1967D2;\n",
              "      --hover-bg-color: #E2EBFA;\n",
              "      --hover-fill-color: #174EA6;\n",
              "      --disabled-fill-color: #AAA;\n",
              "      --disabled-bg-color: #DDD;\n",
              "  }\n",
              "\n",
              "  [theme=dark] .colab-df-quickchart {\n",
              "      --bg-color: #3B4455;\n",
              "      --fill-color: #D2E3FC;\n",
              "      --hover-bg-color: #434B5C;\n",
              "      --hover-fill-color: #FFFFFF;\n",
              "      --disabled-bg-color: #3B4455;\n",
              "      --disabled-fill-color: #666;\n",
              "  }\n",
              "\n",
              "  .colab-df-quickchart {\n",
              "    background-color: var(--bg-color);\n",
              "    border: none;\n",
              "    border-radius: 50%;\n",
              "    cursor: pointer;\n",
              "    display: none;\n",
              "    fill: var(--fill-color);\n",
              "    height: 32px;\n",
              "    padding: 0;\n",
              "    width: 32px;\n",
              "  }\n",
              "\n",
              "  .colab-df-quickchart:hover {\n",
              "    background-color: var(--hover-bg-color);\n",
              "    box-shadow: 0 1px 2px rgba(60, 64, 67, 0.3), 0 1px 3px 1px rgba(60, 64, 67, 0.15);\n",
              "    fill: var(--button-hover-fill-color);\n",
              "  }\n",
              "\n",
              "  .colab-df-quickchart-complete:disabled,\n",
              "  .colab-df-quickchart-complete:disabled:hover {\n",
              "    background-color: var(--disabled-bg-color);\n",
              "    fill: var(--disabled-fill-color);\n",
              "    box-shadow: none;\n",
              "  }\n",
              "\n",
              "  .colab-df-spinner {\n",
              "    border: 2px solid var(--fill-color);\n",
              "    border-color: transparent;\n",
              "    border-bottom-color: var(--fill-color);\n",
              "    animation:\n",
              "      spin 1s steps(1) infinite;\n",
              "  }\n",
              "\n",
              "  @keyframes spin {\n",
              "    0% {\n",
              "      border-color: transparent;\n",
              "      border-bottom-color: var(--fill-color);\n",
              "      border-left-color: var(--fill-color);\n",
              "    }\n",
              "    20% {\n",
              "      border-color: transparent;\n",
              "      border-left-color: var(--fill-color);\n",
              "      border-top-color: var(--fill-color);\n",
              "    }\n",
              "    30% {\n",
              "      border-color: transparent;\n",
              "      border-left-color: var(--fill-color);\n",
              "      border-top-color: var(--fill-color);\n",
              "      border-right-color: var(--fill-color);\n",
              "    }\n",
              "    40% {\n",
              "      border-color: transparent;\n",
              "      border-right-color: var(--fill-color);\n",
              "      border-top-color: var(--fill-color);\n",
              "    }\n",
              "    60% {\n",
              "      border-color: transparent;\n",
              "      border-right-color: var(--fill-color);\n",
              "    }\n",
              "    80% {\n",
              "      border-color: transparent;\n",
              "      border-right-color: var(--fill-color);\n",
              "      border-bottom-color: var(--fill-color);\n",
              "    }\n",
              "    90% {\n",
              "      border-color: transparent;\n",
              "      border-bottom-color: var(--fill-color);\n",
              "    }\n",
              "  }\n",
              "</style>\n",
              "\n",
              "      <script>\n",
              "        async function quickchart(key) {\n",
              "          const quickchartButtonEl =\n",
              "            document.querySelector('#' + key + ' button');\n",
              "          quickchartButtonEl.disabled = true;  // To prevent multiple clicks.\n",
              "          quickchartButtonEl.classList.add('colab-df-spinner');\n",
              "          try {\n",
              "            const charts = await google.colab.kernel.invokeFunction(\n",
              "                'suggestCharts', [key], {});\n",
              "          } catch (error) {\n",
              "            console.error('Error during call to suggestCharts:', error);\n",
              "          }\n",
              "          quickchartButtonEl.classList.remove('colab-df-spinner');\n",
              "          quickchartButtonEl.classList.add('colab-df-quickchart-complete');\n",
              "        }\n",
              "        (() => {\n",
              "          let quickchartButtonEl =\n",
              "            document.querySelector('#df-36ca7352-bb5e-4a90-8669-e6fbe06a20b3 button');\n",
              "          quickchartButtonEl.style.display =\n",
              "            google.colab.kernel.accessAllowed ? 'block' : 'none';\n",
              "        })();\n",
              "      </script>\n",
              "    </div>\n",
              "    </div>\n",
              "  </div>\n"
            ],
            "application/vnd.google.colaboratory.intrinsic+json": {
              "type": "dataframe",
              "variable_name": "df",
              "summary": "{\n  \"name\": \"df\",\n  \"rows\": 1030,\n  \"fields\": [\n    {\n      \"column\": \"mpg\",\n      \"properties\": {\n        \"dtype\": \"number\",\n        \"std\": 104.50714164287166,\n        \"min\": 102.0,\n        \"max\": 540.0,\n        \"num_unique_values\": 280,\n        \"samples\": [\n          194.68,\n          480.0,\n          145.4\n        ],\n        \"semantic_type\": \"\",\n        \"description\": \"\"\n      }\n    },\n    {\n      \"column\": \"cylinders\",\n      \"properties\": {\n        \"dtype\": \"number\",\n        \"std\": 86.2791036431688,\n        \"min\": 0.0,\n        \"max\": 359.4,\n        \"num_unique_values\": 187,\n        \"samples\": [\n          186.7,\n          212.0,\n          26.0\n        ],\n        \"semantic_type\": \"\",\n        \"description\": \"\"\n      }\n    },\n    {\n      \"column\": \"displacement\",\n      \"properties\": {\n        \"dtype\": \"number\",\n        \"std\": 63.9964693818656,\n        \"min\": 0.0,\n        \"max\": 200.1,\n        \"num_unique_values\": 163,\n        \"samples\": [\n          81.8,\n          137.9,\n          107.5\n        ],\n        \"semantic_type\": \"\",\n        \"description\": \"\"\n      }\n    },\n    {\n      \"column\": \"horsepower\",\n      \"properties\": {\n        \"dtype\": \"number\",\n        \"std\": 21.35556706691148,\n        \"min\": 121.75,\n        \"max\": 247.0,\n        \"num_unique_values\": 205,\n        \"samples\": [\n          164.9,\n          181.1,\n          185.7\n        ],\n        \"semantic_type\": \"\",\n        \"description\": \"\"\n      }\n    },\n    {\n      \"column\": \"weight\",\n      \"properties\": {\n        \"dtype\": \"number\",\n        \"std\": 5.973491650590153,\n        \"min\": 0.0,\n        \"max\": 32.2,\n        \"num_unique_values\": 155,\n        \"samples\": [\n          4.14,\n          9.8,\n          6.13\n        ],\n        \"semantic_type\": \"\",\n        \"description\": \"\"\n      }\n    },\n    {\n      \"column\": \"acceleration\",\n      \"properties\": {\n        \"dtype\": \"number\",\n        \"std\": 77.75381809178938,\n        \"min\": 801.0,\n        \"max\": 1145.0,\n        \"num_unique_values\": 284,\n        \"samples\": [\n          852.1,\n          913.9,\n          914.0\n        ],\n        \"semantic_type\": \"\",\n        \"description\": \"\"\n      }\n    },\n    {\n      \"column\": \"model_year\",\n      \"properties\": {\n        \"dtype\": \"number\",\n        \"std\": 80.17542739902382,\n        \"min\": 594.0,\n        \"max\": 992.6,\n        \"num_unique_values\": 304,\n        \"samples\": [\n          698.0,\n          613.0,\n          689.3\n        ],\n        \"semantic_type\": \"\",\n        \"description\": \"\"\n      }\n    },\n    {\n      \"column\": \"origin\",\n      \"properties\": {\n        \"dtype\": \"number\",\n        \"std\": 63,\n        \"min\": 1,\n        \"max\": 365,\n        \"num_unique_values\": 14,\n        \"samples\": [\n          91,\n          100,\n          28\n        ],\n        \"semantic_type\": \"\",\n        \"description\": \"\"\n      }\n    },\n    {\n      \"column\": \"car_name\",\n      \"properties\": {\n        \"dtype\": \"number\",\n        \"std\": 16.70567917486794,\n        \"min\": 2.331807832,\n        \"max\": 82.5992248,\n        \"num_unique_values\": 938,\n        \"samples\": [\n          33.398217439999996,\n          56.63355864,\n          25.559564796\n        ],\n        \"semantic_type\": \"\",\n        \"description\": \"\"\n      }\n    }\n  ]\n}"
            }
          },
          "metadata": {},
          "execution_count": 31
        }
      ]
    },
    {
      "cell_type": "markdown",
      "source": [
        "# 4) Изучение набора данных"
      ],
      "metadata": {
        "id": "_BKwhxvboazR"
      }
    },
    {
      "cell_type": "markdown",
      "source": [
        "## 4.1) Определение типов данных столбцов"
      ],
      "metadata": {
        "id": "NS_RkMOrxTqj"
      }
    },
    {
      "cell_type": "code",
      "source": [
        "# Вывести информацию о наборе данных, содержащую сведения о типах данных в столбцах\n",
        "df.info()"
      ],
      "metadata": {
        "id": "58y_iqnpu3ng",
        "colab": {
          "base_uri": "https://localhost:8080/"
        },
        "outputId": "76917a68-05ee-48fd-a249-e2e0d2fcb9b8"
      },
      "execution_count": 32,
      "outputs": [
        {
          "output_type": "stream",
          "name": "stdout",
          "text": [
            "<class 'pandas.core.frame.DataFrame'>\n",
            "RangeIndex: 1030 entries, 0 to 1029\n",
            "Data columns (total 9 columns):\n",
            " #   Column        Non-Null Count  Dtype  \n",
            "---  ------        --------------  -----  \n",
            " 0   mpg           1030 non-null   float64\n",
            " 1   cylinders     1030 non-null   float64\n",
            " 2   displacement  1030 non-null   float64\n",
            " 3   horsepower    1030 non-null   float64\n",
            " 4   weight        1030 non-null   float64\n",
            " 5   acceleration  1030 non-null   float64\n",
            " 6   model_year    1030 non-null   float64\n",
            " 7   origin        1030 non-null   int64  \n",
            " 8   car_name      1030 non-null   float64\n",
            "dtypes: float64(8), int64(1)\n",
            "memory usage: 72.6 KB\n"
          ]
        }
      ]
    },
    {
      "cell_type": "markdown",
      "source": [
        "## 4.2) Проверка наличия отсутствующих значений"
      ],
      "metadata": {
        "id": "z9Yo4hagxc8Y"
      }
    },
    {
      "cell_type": "code",
      "source": [
        "# Определить количество отсутствующих данных в каждом из столбцов\n",
        "df.isnull().sum()"
      ],
      "metadata": {
        "id": "Nl6e6-gWxhr7",
        "colab": {
          "base_uri": "https://localhost:8080/",
          "height": 366
        },
        "outputId": "45c9d775-255d-400a-99fa-d53b81ab74c4"
      },
      "execution_count": 33,
      "outputs": [
        {
          "output_type": "execute_result",
          "data": {
            "text/plain": [
              "mpg             0\n",
              "cylinders       0\n",
              "displacement    0\n",
              "horsepower      0\n",
              "weight          0\n",
              "acceleration    0\n",
              "model_year      0\n",
              "origin          0\n",
              "car_name        0\n",
              "dtype: int64"
            ],
            "text/html": [
              "<div>\n",
              "<style scoped>\n",
              "    .dataframe tbody tr th:only-of-type {\n",
              "        vertical-align: middle;\n",
              "    }\n",
              "\n",
              "    .dataframe tbody tr th {\n",
              "        vertical-align: top;\n",
              "    }\n",
              "\n",
              "    .dataframe thead th {\n",
              "        text-align: right;\n",
              "    }\n",
              "</style>\n",
              "<table border=\"1\" class=\"dataframe\">\n",
              "  <thead>\n",
              "    <tr style=\"text-align: right;\">\n",
              "      <th></th>\n",
              "      <th>0</th>\n",
              "    </tr>\n",
              "  </thead>\n",
              "  <tbody>\n",
              "    <tr>\n",
              "      <th>mpg</th>\n",
              "      <td>0</td>\n",
              "    </tr>\n",
              "    <tr>\n",
              "      <th>cylinders</th>\n",
              "      <td>0</td>\n",
              "    </tr>\n",
              "    <tr>\n",
              "      <th>displacement</th>\n",
              "      <td>0</td>\n",
              "    </tr>\n",
              "    <tr>\n",
              "      <th>horsepower</th>\n",
              "      <td>0</td>\n",
              "    </tr>\n",
              "    <tr>\n",
              "      <th>weight</th>\n",
              "      <td>0</td>\n",
              "    </tr>\n",
              "    <tr>\n",
              "      <th>acceleration</th>\n",
              "      <td>0</td>\n",
              "    </tr>\n",
              "    <tr>\n",
              "      <th>model_year</th>\n",
              "      <td>0</td>\n",
              "    </tr>\n",
              "    <tr>\n",
              "      <th>origin</th>\n",
              "      <td>0</td>\n",
              "    </tr>\n",
              "    <tr>\n",
              "      <th>car_name</th>\n",
              "      <td>0</td>\n",
              "    </tr>\n",
              "  </tbody>\n",
              "</table>\n",
              "</div><br><label><b>dtype:</b> int64</label>"
            ]
          },
          "metadata": {},
          "execution_count": 33
        }
      ]
    },
    {
      "cell_type": "markdown",
      "source": [
        "## Заполнение отсутствующих значений или удаление строк с отсутсвующими значениями\n",
        "\n",
        "Пункт выполняется если в наборе данныъ есть отсутствующие значения"
      ],
      "metadata": {
        "id": "Bkx4q3-Nx_AE"
      }
    },
    {
      "cell_type": "code",
      "source": [
        "#Ваш код (при необходимости)"
      ],
      "metadata": {
        "id": "tGs0LgNayU9M"
      },
      "execution_count": 34,
      "outputs": []
    },
    {
      "cell_type": "markdown",
      "source": [
        "#Сделать выводы по разделу 4\n",
        "\n",
        "---\n",
        "\n"
      ],
      "metadata": {
        "id": "j0uC_QeyZCR5"
      }
    },
    {
      "cell_type": "markdown",
      "source": [
        "## 5) Изучение статистических показателей набора данных"
      ],
      "metadata": {
        "id": "6pT5XMgjzAMI"
      }
    },
    {
      "cell_type": "code",
      "source": [
        "# Вывести статистическую информацию о наборе данных\n",
        "print(\"Описательная статистика:\")\n",
        "print(df.describe())\n",
        "print(\"\\nФорма датасета:\", df.shape)\n",
        "print(\"\\nИнформация о типах данных:\")\n",
        "print(df.dtypes)"
      ],
      "metadata": {
        "id": "BcUXmvguzHnJ",
        "colab": {
          "base_uri": "https://localhost:8080/"
        },
        "outputId": "285f4f0d-52ef-42fe-8cfc-43132300e9b0"
      },
      "execution_count": 50,
      "outputs": [
        {
          "output_type": "stream",
          "name": "stdout",
          "text": [
            "Описательная статистика:\n",
            "               mpg    cylinders  displacement   horsepower       weight  \\\n",
            "count  1030.000000  1030.000000   1030.000000  1030.000000  1030.000000   \n",
            "mean    281.165631    73.895485     54.187136   181.566359     6.203112   \n",
            "std     104.507142    86.279104     63.996469    21.355567     5.973492   \n",
            "min     102.000000     0.000000      0.000000   121.750000     0.000000   \n",
            "25%     192.375000     0.000000      0.000000   164.900000     0.000000   \n",
            "50%     272.900000    22.000000      0.000000   185.000000     6.350000   \n",
            "75%     350.000000   142.950000    118.270000   192.000000    10.160000   \n",
            "max     540.000000   359.400000    200.100000   247.000000    32.200000   \n",
            "\n",
            "       acceleration   model_year       origin     car_name  \n",
            "count   1030.000000  1030.000000  1030.000000  1030.000000  \n",
            "mean     972.918592   773.578883    45.662136    35.817836  \n",
            "std       77.753818    80.175427    63.169912    16.705679  \n",
            "min      801.000000   594.000000     1.000000     2.331808  \n",
            "25%      932.000000   730.950000     7.000000    23.707115  \n",
            "50%      968.000000   779.510000    28.000000    34.442774  \n",
            "75%     1029.400000   824.000000    56.000000    46.136287  \n",
            "max     1145.000000   992.600000   365.000000    82.599225  \n",
            "\n",
            "Форма датасета: (1030, 9)\n",
            "\n",
            "Информация о типах данных:\n",
            "mpg             float64\n",
            "cylinders       float64\n",
            "displacement    float64\n",
            "horsepower      float64\n",
            "weight          float64\n",
            "acceleration    float64\n",
            "model_year      float64\n",
            "origin            int64\n",
            "car_name        float64\n",
            "dtype: object\n"
          ]
        }
      ]
    },
    {
      "cell_type": "markdown",
      "source": [
        "#Сделать выводы по разделу 5\n",
        "\n",
        "---\n",
        "\n"
      ],
      "metadata": {
        "id": "lB4UG0Z6YGvO"
      }
    },
    {
      "cell_type": "markdown",
      "source": [
        "# 6) Исследовательский анализ данных"
      ],
      "metadata": {
        "id": "IrTTuXPzzrh8"
      }
    },
    {
      "cell_type": "markdown",
      "source": [
        "## 6.1) Анализ корреляционной матрицы"
      ],
      "metadata": {
        "id": "Rm6M17VUz146"
      }
    },
    {
      "cell_type": "code",
      "source": [
        "# Построить корреляционную матрицу\n",
        "import numpy as np\n",
        "import matplotlib.pyplot as plt\n",
        "import seaborn as sns\n",
        "\n",
        "# Вычислить корреляционную матрицу для числовых столбцов\n",
        "numeric_df = df.select_dtypes(include=[np.number])\n",
        "corr_matrix = numeric_df.corr()\n",
        "print(\"Корреляционная матрица:\")\n",
        "print(corr_matrix)\n",
        "\n",
        "# Показать корреляцию с целевым признаком (mpg)\n",
        "print(\"\\nКорреляция с mpg:\")\n",
        "mpg_corr = corr_matrix['mpg'].sort_values(key=abs, ascending=False)\n",
        "print(mpg_corr)\n",
        "\n",
        "# Найти существенные признаки (|корреляция| > 0.7)\n",
        "significant_features = mpg_corr[abs(mpg_corr) > 0.7]\n",
        "print(\"\\nСущественные признаки (|корреляция| > 0.7):\")\n",
        "print(significant_features)"
      ],
      "metadata": {
        "id": "fa-8cGN7yyns",
        "colab": {
          "base_uri": "https://localhost:8080/"
        },
        "outputId": "dd926a4a-f1a8-4399-d85f-13b38e353085"
      },
      "execution_count": 52,
      "outputs": [
        {
          "output_type": "stream",
          "name": "stdout",
          "text": [
            "Корреляционная матрица:\n",
            "                   mpg  cylinders  displacement  horsepower    weight  \\\n",
            "mpg           1.000000  -0.275193     -0.397475   -0.081544  0.092771   \n",
            "cylinders    -0.275193   1.000000     -0.323569    0.107286  0.043376   \n",
            "displacement -0.397475  -0.323569      1.000000   -0.257044  0.377340   \n",
            "horsepower   -0.081544   0.107286     -0.257044    1.000000 -0.657464   \n",
            "weight        0.092771   0.043376      0.377340   -0.657464  1.000000   \n",
            "acceleration -0.109356  -0.283998     -0.009977   -0.182312 -0.266303   \n",
            "model_year   -0.222720  -0.281593      0.079076   -0.450635  0.222501   \n",
            "origin        0.081947  -0.044246     -0.154370    0.277604 -0.192717   \n",
            "car_name      0.497833   0.134824     -0.105753   -0.289613  0.366102   \n",
            "\n",
            "              acceleration  model_year    origin  car_name  \n",
            "mpg              -0.109356   -0.222720  0.081947  0.497833  \n",
            "cylinders        -0.283998   -0.281593 -0.044246  0.134824  \n",
            "displacement     -0.009977    0.079076 -0.154370 -0.105753  \n",
            "horsepower       -0.182312   -0.450635  0.277604 -0.289613  \n",
            "weight           -0.266303    0.222501 -0.192717  0.366102  \n",
            "acceleration      1.000000   -0.178506 -0.003016 -0.164928  \n",
            "model_year       -0.178506    1.000000 -0.156094 -0.167249  \n",
            "origin           -0.003016   -0.156094  1.000000  0.328877  \n",
            "car_name         -0.164928   -0.167249  0.328877  1.000000  \n",
            "\n",
            "Корреляция с mpg:\n",
            "mpg             1.000000\n",
            "car_name        0.497833\n",
            "displacement   -0.397475\n",
            "cylinders      -0.275193\n",
            "model_year     -0.222720\n",
            "acceleration   -0.109356\n",
            "weight          0.092771\n",
            "origin          0.081947\n",
            "horsepower     -0.081544\n",
            "Name: mpg, dtype: float64\n",
            "\n",
            "Существенные признаки (|корреляция| > 0.7):\n",
            "mpg    1.0\n",
            "Name: mpg, dtype: float64\n"
          ]
        }
      ]
    },
    {
      "cell_type": "markdown",
      "source": [
        "#Сделать выводы по разделу 6\n",
        "\n",
        "---\n",
        "\n"
      ],
      "metadata": {
        "id": "3oTEs7YBYogJ"
      }
    },
    {
      "cell_type": "markdown",
      "source": [
        "## 7) Визуализация данных\n",
        "\n",
        "Выбрать **существенные** признаки.\n",
        "\n",
        "Под **существенным** будем понимать признак, коэффициент корреляции которого с целевым признаком превышает по абсолютной величине 0.7.\n",
        "\n",
        "Построить зависимость целевого признака от каждого из существенных.\n",
        "На графиках должны быть обозначены оси. График должен иметь заголовок"
      ],
      "metadata": {
        "id": "dCn0F0j_02Xw"
      }
    },
    {
      "cell_type": "code",
      "source": [
        "# импортировать библиотеку seaborn\n",
        "import seaborn as sns\n",
        "import matplotlib.pyplot as plt\n",
        "print(\"Библиотеки для визуализации загружены\")"
      ],
      "metadata": {
        "id": "LnXlqrIi1srz",
        "colab": {
          "base_uri": "https://localhost:8080/"
        },
        "outputId": "826634e8-cd91-45b8-de29-44fac4106646"
      },
      "execution_count": 54,
      "outputs": [
        {
          "output_type": "stream",
          "name": "stdout",
          "text": [
            "Библиотеки для визуализации загружены\n"
          ]
        }
      ]
    },
    {
      "cell_type": "code",
      "source": [
        "# Построить первый график для наиболее коррелирующего признака - car_name\n",
        "# Поскольку нет признаков с |корреляцией| > 0.7, используем наиболее коррелирующие\n",
        "plt.figure(figsize=(10, 6))\n",
        "plt.scatter(df['car_name'], df['mpg'], alpha=0.6)\n",
        "plt.xlabel('Car Name')\n",
        "plt.ylabel('MPG')\n",
        "plt.title('Зависимость MPG от Car Name (корреляция: 0.50)')\n",
        "plt.show()"
      ],
      "metadata": {
        "id": "xbHUK2H-164p",
        "colab": {
          "base_uri": "https://localhost:8080/",
          "height": 412
        },
        "outputId": "323f74de-dc4b-46b7-9ba3-921f6d3a885f"
      },
      "execution_count": 56,
      "outputs": [
        {
          "output_type": "display_data",
          "data": {
            "text/plain": [
              "<Figure size 1000x600 with 1 Axes>"
            ],
            "image/png": "[encoded data removed]"
          },
          "metadata": {}
        }
      ]
    },
    {
      "cell_type": "code",
      "source": [
        "# Построить второй график."
      ],
      "metadata": {
        "id": "jEMUe-ef7lgk"
      },
      "execution_count": 39,
      "outputs": []
    },
    {
      "cell_type": "code",
      "source": [
        "#Построить третий график."
      ],
      "metadata": {
        "id": "_CQg9kX88WTB"
      },
      "execution_count": 40,
      "outputs": []
    },
    {
      "cell_type": "code",
      "source": [
        "# Построить четвёртый график."
      ],
      "metadata": {
        "id": "Z8BqmlC788J6"
      },
      "execution_count": 41,
      "outputs": []
    },
    {
      "cell_type": "markdown",
      "source": [
        "#Сделать выводы по разделу 7"
      ],
      "metadata": {
        "id": "AonQJNmbTi8g"
      }
    },
    {
      "cell_type": "markdown",
      "source": [
        "# 8) одготова данных для обучения"
      ],
      "metadata": {
        "id": "77DcnEznmsqD"
      }
    },
    {
      "cell_type": "markdown",
      "source": [
        "1) Сформировать набор данных, состоящий из существенных признаков. Целевой признак в набор данных не включается.\n",
        "\n",
        "2) Сформировать набор данных, состоящий из целевого признака.\n"
      ],
      "metadata": {
        "id": "sHiWZft7m40w"
      }
    },
    {
      "cell_type": "code",
      "source": [
        "#Ваш код, реализующий пункты 1, 2"
      ],
      "metadata": {
        "id": "0XLqZmDTnX0x"
      },
      "execution_count": 57,
      "outputs": []
    },
    {
      "cell_type": "markdown",
      "source": [
        "## 8.1) Выполнить нормализацию данных для набора существенных признаков."
      ],
      "metadata": {
        "id": "QRZw5wTcn3go"
      }
    },
    {
      "cell_type": "code",
      "source": [
        "#Импортировать библиотеку preprocessing\n",
        "#Ваш код для выполнения нормализации"
      ],
      "metadata": {
        "id": "jjs9sw5WmlX_"
      },
      "execution_count": 43,
      "outputs": []
    },
    {
      "cell_type": "code",
      "source": [
        "#Вывести первые 5 строк нормализованного набора данных\n"
      ],
      "metadata": {
        "id": "-VMmOAIGol_K"
      },
      "execution_count": 44,
      "outputs": []
    },
    {
      "cell_type": "markdown",
      "source": [
        "## 9) Разделение набора данных"
      ],
      "metadata": {
        "id": "2fqhC8DKpUjW"
      }
    },
    {
      "cell_type": "markdown",
      "source": [
        "Разделить нормализованный набор данных и набор данных, содержащий целевй признак, на обучающую и тестовую выборки"
      ],
      "metadata": {
        "id": "94XCv9qRo0VR"
      }
    },
    {
      "cell_type": "code",
      "source": [
        "#Импортировать библиотеку train_test_split\n",
        "#Ваш код для формирования обучающей и тестовой выборок.\n"
      ],
      "metadata": {
        "id": "hoy3eOD1pdDK"
      },
      "execution_count": 45,
      "outputs": []
    },
    {
      "cell_type": "markdown",
      "source": [
        "# 10) Обучение модели"
      ],
      "metadata": {
        "id": "Yshr4Padp3gQ"
      }
    },
    {
      "cell_type": "markdown",
      "source": [
        "Обучить модель линейной регрессии."
      ],
      "metadata": {
        "id": "rx1Ajc3yp8tb"
      }
    },
    {
      "cell_type": "code",
      "source": [
        "#Импортировать библиотеку LinearRegression\n",
        "#Ваш код для одучения модели"
      ],
      "metadata": {
        "id": "Terw8pnmqDk4"
      },
      "execution_count": 46,
      "outputs": []
    },
    {
      "cell_type": "markdown",
      "source": [
        "## 11) Оценка качества модели"
      ],
      "metadata": {
        "id": "m51IE834rJfv"
      }
    },
    {
      "cell_type": "markdown",
      "source": [
        "Вычислить прогнозные значения для тестового набора данных"
      ],
      "metadata": {
        "id": "7BNDnlbarXIv"
      }
    },
    {
      "cell_type": "code",
      "source": [
        "#Ваш код для вычисления прогнозных значений"
      ],
      "metadata": {
        "id": "yjpbHA2JrOyv"
      },
      "execution_count": 47,
      "outputs": []
    },
    {
      "cell_type": "markdown",
      "source": [
        "Вычислить оценкbи:\n",
        "\n",
        "\n",
        "* mean squre error\n",
        "* $R^2$  \n",
        "*   explained variance\n",
        "\n"
      ],
      "metadata": {
        "id": "IqyvTx1JrolS"
      }
    },
    {
      "cell_type": "code",
      "source": [
        "#Импортировать библиотеку metrics\n",
        "#Ваш код для вычисления указанных выше оценок"
      ],
      "metadata": {
        "id": "oePnBdUbrtOA"
      },
      "execution_count": 48,
      "outputs": []
    },
    {
      "cell_type": "markdown",
      "source": [
        "# Выводы по разделу 11"
      ],
      "metadata": {
        "id": "5Icfbb6SV1yv"
      }
    }
  ]
}