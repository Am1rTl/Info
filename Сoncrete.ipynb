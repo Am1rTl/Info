{
  "nbformat": 4,
  "nbformat_minor": 0,
  "metadata": {
    "colab": {
      "provenance": [],
      "include_colab_link": true
    },
    "kernelspec": {
      "name": "python3",
      "display_name": "Python 3"
    },
    "language_info": {
      "name": "python"
    }
  },
  "cells": [
    {
      "cell_type": "markdown",
      "metadata": {
        "id": "view-in-github",
        "colab_type": "text"
      },
      "source": [
        "<a href=\"https://colab.research.google.com/github/Am1rTl/Info/blob/main/%D0%A1oncrete.ipynb\" target=\"_parent\"><img src=\"https://colab.research.google.com/assets/colab-badge.svg\" alt=\"Open In Colab\"/></a>"
      ]
    },
    {
      "cell_type": "markdown",
      "source": [
        "# Введение"
      ],
      "metadata": {
        "id": "FbYKXUL0kItj"
      }
    },
    {
      "cell_type": "markdown",
      "source": [
        "## 1) Характеристики набора данных"
      ],
      "metadata": {
        "id": "A3UCtsU8kg6W"
      }
    },
    {
      "cell_type": "markdown",
      "source": [
        "В наборе данных представлены следующие характерисьтики автомобилей.\n",
        "\n",
        "Характеристика | Описание\n",
        "--- | :---\n",
        "mpg | пробег на обной заправке (миль/галон)\n",
        "cylinders | количество цилиндров\n",
        "displacement |  объём цилиндра\n",
        "horsepower | мощность (лошадиные силы)\n",
        "weight | вес\n",
        "acceleration | ускорение\n",
        "model year | год выпуска\n",
        "origin | страна производства\n",
        "car name | название"
      ],
      "metadata": {
        "id": "_JbiGU1QkPGj"
      }
    },
    {
      "cell_type": "markdown",
      "source": [
        "## 2) Задание"
      ],
      "metadata": {
        "id": "rWj2M_RImQ0X"
      }
    },
    {
      "cell_type": "markdown",
      "source": [
        "Построить мдель регресси для предсказания значения параметра mpg."
      ],
      "metadata": {
        "id": "45pPRpc2mlmo"
      }
    },
    {
      "cell_type": "markdown",
      "source": [
        "# 3) Загрузка набора данных\n",
        "\n",
        "1. Загрузить набор данных auto-mpg.xlsx в сесионное хранилище.\n",
        "1. Создать DataFrame Pandas. Имена столбцов взять из раздела Характеристики набора данных."
      ],
      "metadata": {
        "id": "5--A64DUoCXV"
      }
    },
    {
      "cell_type": "code",
      "execution_count": null,
      "metadata": {
        "id": "NbD6B4chgqOa"
      },
      "outputs": [],
      "source": [
        "#Импортировать внешнюю библиотеку pandas"
      ]
    },
    {
      "cell_type": "code",
      "source": [
        "#Загрузить набор данных"
      ],
      "metadata": {
        "id": "pLgaVlkYpLb6"
      },
      "execution_count": null,
      "outputs": []
    },
    {
      "cell_type": "code",
      "source": [
        "#Вывести первые 5 строк набора данных\n"
      ],
      "metadata": {
        "id": "z1pxboBXy3Om"
      },
      "execution_count": null,
      "outputs": []
    },
    {
      "cell_type": "markdown",
      "source": [
        "# 4) Изучение набора данных"
      ],
      "metadata": {
        "id": "_BKwhxvboazR"
      }
    },
    {
      "cell_type": "markdown",
      "source": [
        "## 4.1) Определение типов данных столбцов"
      ],
      "metadata": {
        "id": "NS_RkMOrxTqj"
      }
    },
    {
      "cell_type": "code",
      "source": [
        "#Вывести информацию о наборе данных, содержащую сведения о типах данных в столбцах"
      ],
      "metadata": {
        "id": "58y_iqnpu3ng"
      },
      "execution_count": null,
      "outputs": []
    },
    {
      "cell_type": "markdown",
      "source": [
        "## 4.2) Проверка наличия отсутствующих значений"
      ],
      "metadata": {
        "id": "z9Yo4hagxc8Y"
      }
    },
    {
      "cell_type": "code",
      "source": [
        "# Определить количество отсутствующих данных в каждом из столбцов"
      ],
      "metadata": {
        "id": "Nl6e6-gWxhr7"
      },
      "execution_count": null,
      "outputs": []
    },
    {
      "cell_type": "markdown",
      "source": [
        "## Заполнение отсутствующих значений или удаление строк с отсутсвующими значениями\n",
        "\n",
        "Пункт выполняется если в наборе данныъ есть отсутствующие значения"
      ],
      "metadata": {
        "id": "Bkx4q3-Nx_AE"
      }
    },
    {
      "cell_type": "code",
      "source": [
        "#Ваш код (при необходимости)"
      ],
      "metadata": {
        "id": "tGs0LgNayU9M"
      },
      "execution_count": null,
      "outputs": []
    },
    {
      "cell_type": "markdown",
      "source": [
        "#Сделать выводы по разделу 4\n",
        "\n",
        "---\n",
        "\n"
      ],
      "metadata": {
        "id": "j0uC_QeyZCR5"
      }
    },
    {
      "cell_type": "markdown",
      "source": [
        "## 5) Изучение статистических показателей набора данных"
      ],
      "metadata": {
        "id": "6pT5XMgjzAMI"
      }
    },
    {
      "cell_type": "code",
      "source": [
        "#Вывести статистическую инфорацию о наборре данных"
      ],
      "metadata": {
        "id": "BcUXmvguzHnJ"
      },
      "execution_count": null,
      "outputs": []
    },
    {
      "cell_type": "markdown",
      "source": [
        "#Сделать выводы по разделу 5\n",
        "\n",
        "---\n",
        "\n"
      ],
      "metadata": {
        "id": "lB4UG0Z6YGvO"
      }
    },
    {
      "cell_type": "markdown",
      "source": [
        "# 6) Исследовательский анализ данных"
      ],
      "metadata": {
        "id": "IrTTuXPzzrh8"
      }
    },
    {
      "cell_type": "markdown",
      "source": [
        "## 6.1) Анализ корреляционной матрицы"
      ],
      "metadata": {
        "id": "Rm6M17VUz146"
      }
    },
    {
      "cell_type": "code",
      "source": [
        "#Построить корреляционную матрицу"
      ],
      "metadata": {
        "id": "fa-8cGN7yyns"
      },
      "execution_count": null,
      "outputs": []
    },
    {
      "cell_type": "markdown",
      "source": [
        "#Сделать выводы по разделу 6\n",
        "\n",
        "---\n",
        "\n"
      ],
      "metadata": {
        "id": "3oTEs7YBYogJ"
      }
    },
    {
      "cell_type": "markdown",
      "source": [
        "## 7) Визуализация данных\n",
        "\n",
        "Выбрать **существенные** признаки.\n",
        "\n",
        "Под **существенным** будем понимать признак, коэффициент корреляции которого с целевым признаком превышает по абсолютной величине 0.7.\n",
        "\n",
        "Построить зависимость целевого признака от каждого из существенных.\n",
        "На графиках должны быть обозначены оси. График должен иметь заголовок"
      ],
      "metadata": {
        "id": "dCn0F0j_02Xw"
      }
    },
    {
      "cell_type": "code",
      "source": [
        "#импортировать библиотеку seaborn"
      ],
      "metadata": {
        "id": "LnXlqrIi1srz"
      },
      "execution_count": null,
      "outputs": []
    },
    {
      "cell_type": "code",
      "source": [
        "# Построить первый график.\n"
      ],
      "metadata": {
        "id": "xbHUK2H-164p"
      },
      "execution_count": null,
      "outputs": []
    },
    {
      "cell_type": "code",
      "source": [
        "# Построить второй график."
      ],
      "metadata": {
        "id": "jEMUe-ef7lgk"
      },
      "execution_count": null,
      "outputs": []
    },
    {
      "cell_type": "code",
      "source": [
        "#Построить третий график."
      ],
      "metadata": {
        "id": "_CQg9kX88WTB"
      },
      "execution_count": null,
      "outputs": []
    },
    {
      "cell_type": "code",
      "source": [
        "# Построить четвёртый график."
      ],
      "metadata": {
        "id": "Z8BqmlC788J6"
      },
      "execution_count": null,
      "outputs": []
    },
    {
      "cell_type": "markdown",
      "source": [
        "#Сделать выводы по разделу 7"
      ],
      "metadata": {
        "id": "AonQJNmbTi8g"
      }
    },
    {
      "cell_type": "markdown",
      "source": [
        "# 8) одготова данных для обучения"
      ],
      "metadata": {
        "id": "77DcnEznmsqD"
      }
    },
    {
      "cell_type": "markdown",
      "source": [
        "1) Сформировать набор данных, состоящий из существенных признаков. Целевой признак в набор данных не включается.\n",
        "\n",
        "2) Сформировать набор данных, состоящий из целевого признака.\n"
      ],
      "metadata": {
        "id": "sHiWZft7m40w"
      }
    },
    {
      "cell_type": "code",
      "source": [
        "#Ваш код, реализующий пункты 1, 2"
      ],
      "metadata": {
        "id": "0XLqZmDTnX0x"
      },
      "execution_count": null,
      "outputs": []
    },
    {
      "cell_type": "markdown",
      "source": [
        "## 8.1) Выполнить нормализацию данных для набора существенных признаков."
      ],
      "metadata": {
        "id": "QRZw5wTcn3go"
      }
    },
    {
      "cell_type": "code",
      "source": [
        "#Импортировать библиотеку preprocessing\n",
        "#Ваш код для выполнения нормализации"
      ],
      "metadata": {
        "id": "jjs9sw5WmlX_"
      },
      "execution_count": null,
      "outputs": []
    },
    {
      "cell_type": "code",
      "source": [
        "#Вывести первые 5 строк нормализованного набора данных\n"
      ],
      "metadata": {
        "id": "-VMmOAIGol_K"
      },
      "execution_count": null,
      "outputs": []
    },
    {
      "cell_type": "markdown",
      "source": [
        "## 9) Разделение набора данных"
      ],
      "metadata": {
        "id": "2fqhC8DKpUjW"
      }
    },
    {
      "cell_type": "markdown",
      "source": [
        "Разделить нормализованный набор данных и набор данных, содержащий целевй признак, на обучающую и тестовую выборки"
      ],
      "metadata": {
        "id": "94XCv9qRo0VR"
      }
    },
    {
      "cell_type": "code",
      "source": [
        "#Импортировать библиотеку train_test_split\n",
        "#Ваш код для формирования обучающей и тестовой выборок.\n"
      ],
      "metadata": {
        "id": "hoy3eOD1pdDK"
      },
      "execution_count": null,
      "outputs": []
    },
    {
      "cell_type": "markdown",
      "source": [
        "# 10) Обучение модели"
      ],
      "metadata": {
        "id": "Yshr4Padp3gQ"
      }
    },
    {
      "cell_type": "markdown",
      "source": [
        "Обучить модель линейной регрессии."
      ],
      "metadata": {
        "id": "rx1Ajc3yp8tb"
      }
    },
    {
      "cell_type": "code",
      "source": [
        "#Импортировать библиотеку LinearRegression\n",
        "#Ваш код для одучения модели"
      ],
      "metadata": {
        "id": "Terw8pnmqDk4"
      },
      "execution_count": null,
      "outputs": []
    },
    {
      "cell_type": "markdown",
      "source": [
        "## 11) Оценка качества модели"
      ],
      "metadata": {
        "id": "m51IE834rJfv"
      }
    },
    {
      "cell_type": "markdown",
      "source": [
        "Вычислить прогнозные значения для тестового набора данных"
      ],
      "metadata": {
        "id": "7BNDnlbarXIv"
      }
    },
    {
      "cell_type": "code",
      "source": [
        "#Ваш код для вычисления прогнозных значений"
      ],
      "metadata": {
        "id": "yjpbHA2JrOyv"
      },
      "execution_count": null,
      "outputs": []
    },
    {
      "cell_type": "markdown",
      "source": [
        "Вычислить оценкbи:\n",
        "\n",
        "\n",
        "* mean squre error\n",
        "* $R^2$  \n",
        "*   explained variance\n",
        "\n"
      ],
      "metadata": {
        "id": "IqyvTx1JrolS"
      }
    },
    {
      "cell_type": "code",
      "source": [
        "#Импортировать библиотеку metrics\n",
        "#Ваш код для вычисления указанных выше оценок"
      ],
      "metadata": {
        "id": "oePnBdUbrtOA"
      },
      "execution_count": null,
      "outputs": []
    },
    {
      "cell_type": "markdown",
      "source": [
        "# Выводы по разделу 11"
      ],
      "metadata": {
        "id": "5Icfbb6SV1yv"
      }
    }
  ]
}