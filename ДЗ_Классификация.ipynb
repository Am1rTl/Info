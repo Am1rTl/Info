{
  "nbformat": 4,
  "nbformat_minor": 0,
  "metadata": {
    "colab": {
      "provenance": [],
      "include_colab_link": true
    },
    "kernelspec": {
      "name": "python3",
      "display_name": "Python 3"
    },
    "language_info": {
      "name": "python"
    }
  },
  "cells": [
    {
      "cell_type": "markdown",
      "metadata": {
        "id": "view-in-github",
        "colab_type": "text"
      },
      "source": [
        "<a href=\"https://colab.research.google.com/github/Am1rTl/Info/blob/main/%D0%94%D0%97_%D0%9A%D0%BB%D0%B0%D1%81%D1%81%D0%B8%D1%84%D0%B8%D0%BA%D0%B0%D1%86%D0%B8%D1%8F.ipynb\" target=\"_parent\"><img src=\"https://colab.research.google.com/assets/colab-badge.svg\" alt=\"Open In Colab\"/></a>"
      ]
    },
    {
      "cell_type": "markdown",
      "source": [
        "# 1) Введение"
      ],
      "metadata": {
        "id": "N-htK1dPU8yk"
      }
    },
    {
      "cell_type": "markdown",
      "source": [
        "## Характеристики набора данных"
      ],
      "metadata": {
        "id": "ASo2GVRLVBCR"
      }
    },
    {
      "cell_type": "markdown",
      "source": [
        "В наборе данных представлна информация об устрицах.\n",
        "\n",
        "Характеристика | Описание\n",
        "--- | ---\n",
        "Sex | Пол\n",
        "Length | Длина\n",
        "Diameter | Диаметр\n",
        "Height | Высота\n",
        "Whole weight | Полный вес\n",
        "Shucked weight| Вес мяса\n",
        "Viscera weight | Вес очишенного мяса\n",
        "Shell weight | Вес высушенного мяса\n",
        "Rings | Годовые кольца\n"
      ],
      "metadata": {
        "id": "_CvS1QS2VKHg"
      }
    },
    {
      "cell_type": "markdown",
      "source": [
        "### 2) Задание"
      ],
      "metadata": {
        "id": "qqnEUOvYWzYu"
      }
    },
    {
      "cell_type": "markdown",
      "source": [
        "Построить классифиатор, позволяющий отнести малюска  к одной из возростных категорий. Целевые данные находятся в столбце Rings."
      ],
      "metadata": {
        "id": "uEuGBMRmW1-v"
      }
    },
    {
      "cell_type": "markdown",
      "source": [
        "# 3) Загрузка набора данных\n",
        "1. Загрузить набор данных Abalone_data.xlsx в сесионное хранилище.\n",
        "1. Создать DataFrame Pandas. Имена столбцов взять из первой строки файла.\n",
        "\n",
        "\n"
      ],
      "metadata": {
        "id": "Qa2dHBlEXWhk"
      }
    },
    {
      "cell_type": "code",
      "source": [
        "#Импорт нужных библиотек"
      ],
      "metadata": {
        "id": "LzR-V58tYJX_"
      },
      "execution_count": null,
      "outputs": []
    },
    {
      "cell_type": "code",
      "source": [
        "#Ваш код для загрузки набора данных и создания объекта DataFrame"
      ],
      "metadata": {
        "id": "qLR3eL62Y04m"
      },
      "execution_count": null,
      "outputs": []
    },
    {
      "cell_type": "code",
      "source": [
        "#Вывести 5-ть первых строк набора данных"
      ],
      "metadata": {
        "id": "Ku1bU5GtZPdJ"
      },
      "execution_count": null,
      "outputs": []
    },
    {
      "cell_type": "markdown",
      "source": [
        "# 4) Изучение набора данных"
      ],
      "metadata": {
        "id": "XQ-Z-X6uZVbO"
      }
    },
    {
      "cell_type": "markdown",
      "source": [
        "## 4.1) Определение типов столбцов"
      ],
      "metadata": {
        "id": "aRbqoM5ZZlnM"
      }
    },
    {
      "cell_type": "code",
      "source": [
        "#Вывести данные, которые позволяют определить типы столбцов в наборе данных"
      ],
      "metadata": {
        "id": "ce6h9UY8Z5bq"
      },
      "execution_count": null,
      "outputs": []
    },
    {
      "cell_type": "markdown",
      "source": [
        "## 4.1 Проверка наличия отсутствующих значений"
      ],
      "metadata": {
        "id": "g5V9aUSxgwak"
      }
    },
    {
      "cell_type": "code",
      "source": [
        "#Рассчитать и вывести данные, позволяющие выявить наличие пропушенных данных"
      ],
      "metadata": {
        "id": "FcgYzzuHg2DI"
      },
      "execution_count": null,
      "outputs": []
    },
    {
      "cell_type": "markdown",
      "source": [
        "## Заполнение отсутствующих значений или удаление строк с отсутсвующими значениями\n",
        "\n",
        "Пункт выполняется если в наборе данныъ есть отсутствующие значения"
      ],
      "metadata": {
        "id": "k6tbuqGnhH0_"
      }
    },
    {
      "cell_type": "code",
      "source": [
        "#Ваш код для заполнения пропущенных значений, при необходимости."
      ],
      "metadata": {
        "id": "VtqULbDWhL6M"
      },
      "execution_count": null,
      "outputs": []
    },
    {
      "cell_type": "markdown",
      "source": [
        "#Выводы по разделу 4"
      ],
      "metadata": {
        "id": "O7d-3RW7KZvX"
      }
    },
    {
      "cell_type": "markdown",
      "source": [
        "Данные не содержат пропусков, большинство параметров типа float64, пол типа object, а таргет имеет тип инт. Получается, что большинство параметров, в том числе и таргет являются числовыми."
      ],
      "metadata": {
        "id": "J6QpO-FszbcC"
      }
    },
    {
      "cell_type": "markdown",
      "source": [
        "## 5) Изучение статистических показателей набора данных"
      ],
      "metadata": {
        "id": "l6yD-3gehRGY"
      }
    },
    {
      "cell_type": "code",
      "source": [
        "#Рассчитать и вывести статистические данные для исследуемого набора данных."
      ],
      "metadata": {
        "id": "EtDKsthc2TOj"
      },
      "execution_count": null,
      "outputs": []
    },
    {
      "cell_type": "markdown",
      "source": [
        "#Выводы по разделу 5"
      ],
      "metadata": {
        "id": "SC13sjVqKunq"
      }
    },
    {
      "cell_type": "markdown",
      "source": [
        "Данные выглядят чистыми, средний возраст малюска составляет 9,9 лет"
      ],
      "metadata": {
        "id": "xz4XueL81lNy"
      }
    },
    {
      "cell_type": "markdown",
      "source": [
        "## 6) Исследовательский анализ данных"
      ],
      "metadata": {
        "id": "7Lzyy3gJhqjY"
      }
    },
    {
      "cell_type": "markdown",
      "source": [
        "## Анализ корреляционной матрицы"
      ],
      "metadata": {
        "id": "g47aKrdmhyBS"
      }
    },
    {
      "cell_type": "markdown",
      "source": [
        "В столбце Rings заменить:\n",
        "* значения не превышающие 8 (<=8) на значение 1;\n",
        "* значения превышающие 8 на число 2\n",
        "\n",
        "Вычислить корреляционную матрицу для модифицированного набора данных."
      ],
      "metadata": {
        "id": "YqTt5X41UFdB"
      }
    },
    {
      "cell_type": "code",
      "source": [
        "#Ваш код для выполнения указанной замены."
      ],
      "metadata": {
        "id": "w20wKAMaOZBX"
      },
      "execution_count": null,
      "outputs": []
    },
    {
      "cell_type": "code",
      "source": [
        "#Ваш код для вычисления корреляционной матрицы"
      ],
      "metadata": {
        "id": "k1jX2otWPVh1"
      },
      "execution_count": null,
      "outputs": []
    },
    {
      "cell_type": "markdown",
      "source": [
        "#Выводы по разделу 6"
      ],
      "metadata": {
        "id": "31TP2OgCLdC6"
      }
    },
    {
      "cell_type": "markdown",
      "source": [
        "Есть сильно каррелирующие друг от друга параметры, например Viscera weight и Whole weight. Один из таких параметров в последствии, возможно, лучше удалить, чтобы не допустить переобучения. С целевым параметром сильнее всего коррелирует Diameter (0,62), хоть и все признаки не поакзывают высокую корреляцию. Пол показывает наименьшую корреляцию с таргетом("
      ],
      "metadata": {
        "id": "6yraTAiVAoAA"
      }
    },
    {
      "cell_type": "markdown",
      "source": [
        "## 7) Визуализация данных\n",
        "\n",
        "Выбрать 4 **существенные** признаки.\n",
        "\n",
        "Под **существенным** будем понимать признак (коэффициент корреляции которого с целевым признаком превышает по абсолютной величине 0.57). Если таких признаков нет, считать существенными все признаки.\n",
        "\n",
        "Построить гистограмму для каждого из существенных признаков с группировкой по целевому признаку."
      ],
      "metadata": {
        "id": "3kJ__wPNi386"
      }
    },
    {
      "cell_type": "code",
      "source": [
        "#Импортировать библиотеку seaborn"
      ],
      "metadata": {
        "id": "9ZKbZYWxjCUH"
      },
      "execution_count": null,
      "outputs": []
    },
    {
      "cell_type": "code",
      "source": [
        "#Ваш код для построения первой гистограммы"
      ],
      "metadata": {
        "id": "mLH7F1PXQchK"
      },
      "execution_count": null,
      "outputs": []
    },
    {
      "cell_type": "markdown",
      "source": [
        "Предполагаю, что гистограмма по уже классифицированнам данным не так информативна, как по первоначальным, поэтому в последствии будет использоваться неклассифицированный возраст"
      ],
      "metadata": {
        "id": "zorxK1EeC9Lg"
      }
    },
    {
      "cell_type": "code",
      "source": [
        "#Ваш код для построения первой гистограммы"
      ],
      "metadata": {
        "id": "BLy1AJMXDMsZ"
      },
      "execution_count": null,
      "outputs": []
    },
    {
      "cell_type": "code",
      "source": [
        "#Ваш код для построения второй гистограммы"
      ],
      "metadata": {
        "id": "REQnc8QeRgl8"
      },
      "execution_count": null,
      "outputs": []
    },
    {
      "cell_type": "code",
      "source": [
        "#Ваш код для построения третьей гистограммы')"
      ],
      "metadata": {
        "id": "XaMB8WyGRsqu"
      },
      "execution_count": null,
      "outputs": []
    },
    {
      "cell_type": "code",
      "source": [
        "#Ваш код для построения четёртой гистограммы"
      ],
      "metadata": {
        "id": "D3SWPD7uR6wW"
      },
      "execution_count": null,
      "outputs": []
    },
    {
      "cell_type": "markdown",
      "source": [
        "Удалить из набора данных все несущественные признаки."
      ],
      "metadata": {
        "id": "3zaFaYTuVky5"
      }
    },
    {
      "cell_type": "code",
      "source": [
        "#Ваш код для удаления несущественных признаков"
      ],
      "metadata": {
        "id": "YEivkRV5SUH4"
      },
      "execution_count": null,
      "outputs": []
    },
    {
      "cell_type": "code",
      "source": [
        "#Выведите первые 5 строк модифицированного набора данных"
      ],
      "metadata": {
        "id": "g7X8RJk6Stcx"
      },
      "execution_count": null,
      "outputs": []
    },
    {
      "cell_type": "markdown",
      "source": [
        "Построить парный график для набора существенных признаков (был получен в предыдущем пункте)"
      ],
      "metadata": {
        "id": "tabdrxVKV669"
      }
    },
    {
      "cell_type": "code",
      "source": [
        "#Ваш код для построения парного графика"
      ],
      "metadata": {
        "id": "GQ0lvfCGTDMK"
      },
      "execution_count": null,
      "outputs": []
    },
    {
      "cell_type": "markdown",
      "source": [
        "Построить тепловую диаграмму для набора существенных признаков."
      ],
      "metadata": {
        "id": "8R5D9KvPYUQ2"
      }
    },
    {
      "cell_type": "code",
      "source": [
        "#Ваш код для построения тепловой диаграммы"
      ],
      "metadata": {
        "id": "abBAXxEkOh_K"
      },
      "execution_count": null,
      "outputs": []
    },
    {
      "cell_type": "markdown",
      "source": [
        "#Выводы по разделу 7\n",
        "Т.к. длинна и димаетр являлись высококорреляцилнными признками, то и диаграммы по ним получились схожими. Явной зависимости (напрмер, линейной по диаграмм распознать неудаётся). Исходя из парного графика можно сказать, что более старшие особи занимают верхнюю часть графиков зависимости. Также, различи между молодыми и взрослыми особеми по параметрам длинны и диаметра является более существенным, чем по полному весу и весу высушенного мяса. Также, между диаметром и длиной прослеживается явная линейная зависимость, исходя из парного графиака, также, похожая зависимость наблюдается и между полным весом и весом высушенного мяса. Это не удивительно, у данных двух пар корреляция внутри себя составиляет более 90%"
      ],
      "metadata": {
        "id": "eCWcoFNLMxnF"
      }
    },
    {
      "cell_type": "markdown",
      "source": [
        "# 8) Подготова данных для обучения"
      ],
      "metadata": {
        "id": "hyq4GYbAYhLv"
      }
    },
    {
      "cell_type": "markdown",
      "source": [
        "Сформировать обучающий набор данных, состоящий из существенных признаков. Целевой признак в набор обучающих данных не включается.\n",
        "\n",
        "Сформировать наборы данных, состоящий из целевого признака."
      ],
      "metadata": {
        "id": "VaT7r8zxYtEF"
      }
    },
    {
      "cell_type": "code",
      "source": [
        "#Ваш код для формирования указанных наборов данных"
      ],
      "metadata": {
        "id": "B4XuutJJttdk"
      },
      "execution_count": null,
      "outputs": []
    },
    {
      "cell_type": "code",
      "source": [
        "#Заменить тип целевого признака на 'category'"
      ],
      "metadata": {
        "id": "uN8q_g-HeJfX"
      },
      "execution_count": null,
      "outputs": []
    },
    {
      "cell_type": "code",
      "source": [
        "#Вывести первые 5 строк набора данных, содержащего целевой признак"
      ],
      "metadata": {
        "id": "st7iq7UtepxK"
      },
      "execution_count": null,
      "outputs": []
    },
    {
      "cell_type": "markdown",
      "source": [
        "## 8.1 Выполнить нормализацию данных для набора существенных признаков."
      ],
      "metadata": {
        "id": "ej2W_B66aMpt"
      }
    },
    {
      "cell_type": "code",
      "source": [
        "#Импортировать библиотеку preprocessing"
      ],
      "metadata": {
        "id": "el5t4XY1aOhz"
      },
      "execution_count": null,
      "outputs": []
    },
    {
      "cell_type": "code",
      "source": [
        "#Выполнить нормализацию набора данных существенных признаков"
      ],
      "metadata": {
        "id": "FfY2cgFkaVNq"
      },
      "execution_count": null,
      "outputs": []
    },
    {
      "cell_type": "markdown",
      "source": [
        "## 8.2) Разделение набора данных"
      ],
      "metadata": {
        "id": "jFEaJ6uMbA9-"
      }
    },
    {
      "cell_type": "markdown",
      "source": [
        "Разделить нормализованный набор данных и набор данных, содержащий целевй признак, на обучающую и тестовую выборки"
      ],
      "metadata": {
        "id": "_jzQqYh8bCOD"
      }
    },
    {
      "cell_type": "code",
      "source": [
        "#Импортировать библиотеку train_test_split"
      ],
      "metadata": {
        "id": "OB4BGriObGwy"
      },
      "execution_count": null,
      "outputs": []
    },
    {
      "cell_type": "code",
      "source": [
        "#Разделить нормализованный набор данных на обучающую и тестовую выборки."
      ],
      "metadata": {
        "id": "3De3nZu_bLXA"
      },
      "execution_count": null,
      "outputs": []
    },
    {
      "cell_type": "markdown",
      "source": [
        "# 9) Обучение модели"
      ],
      "metadata": {
        "id": "v1ivycMXb-ii"
      }
    },
    {
      "cell_type": "markdown",
      "source": [
        "Обучить модель \"Дерево решений\"."
      ],
      "metadata": {
        "id": "ae27p8DPb_b9"
      }
    },
    {
      "cell_type": "code",
      "source": [
        "#Импортировать библиотеку DecisionTreeClassifier"
      ],
      "metadata": {
        "id": "HCT9z3rwwYzv"
      },
      "execution_count": null,
      "outputs": []
    },
    {
      "cell_type": "code",
      "source": [
        "#Создать объект классификатора"
      ],
      "metadata": {
        "id": "Z3VEuCvz7h0_"
      },
      "execution_count": null,
      "outputs": []
    },
    {
      "cell_type": "code",
      "source": [
        "#Обучить классификатор"
      ],
      "metadata": {
        "id": "lLQdBAxR7uPT"
      },
      "execution_count": null,
      "outputs": []
    },
    {
      "cell_type": "code",
      "source": [
        "#Импортировать библиотеку tree"
      ],
      "metadata": {
        "id": "USUB_01Q9obl"
      },
      "execution_count": null,
      "outputs": []
    },
    {
      "cell_type": "code",
      "source": [
        "#Импортировать библиотеку matplotlib.pyplot под именем plt"
      ],
      "metadata": {
        "id": "RODS0UqScnt_"
      },
      "execution_count": null,
      "outputs": []
    },
    {
      "cell_type": "code",
      "source": [
        "#Выполнить следующую команду для подготовки поля рисунка.\n",
        "plt.figure(figsize=(90,90), facecolor ='k')"
      ],
      "metadata": {
        "id": "0Vu2m1av_yiZ"
      },
      "execution_count": null,
      "outputs": []
    },
    {
      "cell_type": "code",
      "source": [
        "#Отобразить дерево решений с помощью функции tree.plot_tree"
      ],
      "metadata": {
        "id": "BvoSRWqt9t35"
      },
      "execution_count": null,
      "outputs": []
    },
    {
      "cell_type": "markdown",
      "source": [
        "## 10) Оценка качества модели"
      ],
      "metadata": {
        "id": "tlsNQ4uhQWk5"
      }
    },
    {
      "cell_type": "markdown",
      "source": [
        "Вычислить прогнозные значения для тестового набора данных."
      ],
      "metadata": {
        "id": "EKcP9z-YQYJ0"
      }
    },
    {
      "cell_type": "code",
      "source": [
        "#Ваш код для вычисления прогнозных значений"
      ],
      "metadata": {
        "id": "_qbVmVoKIj90"
      },
      "execution_count": null,
      "outputs": []
    },
    {
      "cell_type": "code",
      "source": [
        "#Импортировать библиотеки confusion_matrix, precision_score, recall_score, f1_score"
      ],
      "metadata": {
        "id": "isULc1LxJMhw"
      },
      "execution_count": null,
      "outputs": []
    },
    {
      "cell_type": "code",
      "source": [
        "#Ваш код для вычисления матрицы несоответствий"
      ],
      "metadata": {
        "id": "lJFavjD2g3hK"
      },
      "execution_count": null,
      "outputs": []
    },
    {
      "cell_type": "code",
      "source": [
        "#Ваш код для вычисления precision score"
      ],
      "metadata": {
        "id": "hv0G_PrRYMXQ"
      },
      "execution_count": null,
      "outputs": []
    },
    {
      "cell_type": "code",
      "source": [
        "#Ваш код для вычисления recall score"
      ],
      "metadata": {
        "id": "LK-C4-TQZQS1"
      },
      "execution_count": null,
      "outputs": []
    },
    {
      "cell_type": "code",
      "source": [
        "#Ваш код для вычисления f1 score"
      ],
      "metadata": {
        "id": "ZYUx0XRweFhF"
      },
      "execution_count": null,
      "outputs": []
    },
    {
      "cell_type": "markdown",
      "source": [
        "#Выводы по разделу 10"
      ],
      "metadata": {
        "id": "aEWXjShdSOeQ"
      }
    }
  ]
}